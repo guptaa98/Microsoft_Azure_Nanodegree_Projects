{
 "cells": [
  {
   "cell_type": "markdown",
   "metadata": {},
   "source": [
    "# Automated ML\n",
    "\n",
    "TODO: Import Dependencies. In the cell below, import all the dependencies that you will need to complete the project."
   ]
  },
  {
   "cell_type": "code",
   "execution_count": 2,
   "metadata": {
    "gather": {
     "logged": 1598423888013
    },
    "jupyter": {
     "outputs_hidden": false,
     "source_hidden": false
    },
    "nteract": {
     "transient": {
      "deleting": false
     }
    }
   },
   "outputs": [],
   "source": [
    "from azureml.core import Workspace, Experiment\n",
    "from azureml.core.compute import ComputeTarget, AmlCompute\n",
    "from azureml.core.compute_target import ComputeTargetException\n",
    "\n",
    "from azureml.data.dataset_factory import TabularDatasetFactory\n",
    "\n",
    "import pandas as pd\n",
    "from sklearn.model_selection import train_test_split\n",
    "\n",
    "from azureml.train.automl import AutoMLConfig\n",
    "from azureml.widgets import RunDetails\n",
    "import joblib"
   ]
  },
  {
   "cell_type": "markdown",
   "metadata": {},
   "source": [
    "## Dataset\n",
    "\n",
    "### Overview\n",
    "TODO: In this markdown cell, give an overview of the dataset you are using. Also mention the task you will be performing.\n",
    "\n",
    "\n",
    "TODO: Get data. In the cell below, write code to access the data you will be using in this project. Remember that the dataset needs to be external."
   ]
  },
  {
   "cell_type": "code",
   "execution_count": 3,
   "metadata": {
    "gather": {
     "logged": 1598423890461
    },
    "jupyter": {
     "outputs_hidden": false,
     "source_hidden": false
    },
    "nteract": {
     "transient": {
      "deleting": false
     }
    }
   },
   "outputs": [],
   "source": [
    "ws = Workspace.from_config()\n",
    "\n",
    "# choose a name for experiment\n",
    "experiment_name = 'heart_disease_automl'\n",
    "\n",
    "experiment=Experiment(ws, experiment_name)\n",
    "run = experiment.start_logging()"
   ]
  },
  {
   "cell_type": "code",
   "execution_count": 4,
   "metadata": {},
   "outputs": [
    {
     "name": "stdout",
     "output_type": "stream",
     "text": [
      "Found existing cluster, use it.\n",
      "\n",
      "Running\n"
     ]
    }
   ],
   "source": [
    "cpu_cluster_name = \"capstone-comp\"\n",
    "# Verify that cluster does not exist already\n",
    "try:\n",
    "    cpu_cluster = ComputeTarget(workspace=ws, name=cpu_cluster_name)\n",
    "    print('Found existing cluster, use it.')\n",
    "except ComputeTargetException:\n",
    "    compute_config = AmlCompute.provisioning_configuration(vm_size='STANDARD_D2_V2',\n",
    "                                                           max_nodes=4)\n",
    "    cpu_cluster = ComputeTarget.create(ws, cpu_cluster_name, compute_config)\n",
    "\n",
    "cpu_cluster.wait_for_completion(show_output=True)"
   ]
  },
  {
   "cell_type": "code",
   "execution_count": 5,
   "metadata": {},
   "outputs": [],
   "source": [
    "URL = \"https://raw.githubusercontent.com/guptaa98/Microsoft_Azure_Nanodegree_Projects/main/Captstone%20Project/heart.csv\"\n",
    "ds = TabularDatasetFactory.from_delimited_files(path=URL)"
   ]
  },
  {
   "cell_type": "code",
   "execution_count": 6,
   "metadata": {},
   "outputs": [],
   "source": [
    "x = ds.to_pandas_dataframe().dropna()\n",
    "y = x.pop('target')\n",
    "\n",
    "x_train, x_test, y_train, y_test = train_test_split(x, y)\n",
    "dataset = pd.concat([x_train,y_train],axis=1)"
   ]
  },
  {
   "cell_type": "markdown",
   "metadata": {},
   "source": [
    "## AutoML Configuration\n",
    "\n",
    "TODO: Explain why you chose the automl settings and cofiguration you used below."
   ]
  },
  {
   "cell_type": "code",
   "execution_count": 7,
   "metadata": {
    "gather": {
     "logged": 1598429217746
    },
    "jupyter": {
     "outputs_hidden": false,
     "source_hidden": false
    },
    "nteract": {
     "transient": {
      "deleting": false
     }
    }
   },
   "outputs": [],
   "source": [
    "# TODO: Put your automl settings here\n",
    "#automl_settings = {}\n",
    "\n",
    "# TODO: Put your automl config here\n",
    "automl_config = AutoMLConfig(experiment_timeout_minutes=20,\n",
    "                             task=\"classification\",\n",
    "                             primary_metric=\"accuracy\",\n",
    "                             training_data=dataset,\n",
    "                             label_column_name='target',\n",
    "                             n_cross_validations=5)"
   ]
  },
  {
   "cell_type": "code",
   "execution_count": 8,
   "metadata": {
    "gather": {
     "logged": 1598431107951
    },
    "jupyter": {
     "outputs_hidden": false,
     "source_hidden": false
    },
    "nteract": {
     "transient": {
      "deleting": false
     }
    }
   },
   "outputs": [
    {
     "name": "stderr",
     "output_type": "stream",
     "text": [
      "WARNING:root:Running on local machine. Note that local runs always run synchronously even if you use the parameter 'show_output=False'\n"
     ]
    }
   ],
   "source": [
    "# TODO: Submit your experiment\n",
    "remote_run = experiment.submit(automl_config)"
   ]
  },
  {
   "cell_type": "markdown",
   "metadata": {},
   "source": [
    "## Run Details\n",
    "\n",
    "OPTIONAL: Write about the different models trained and their performance. Why do you think some models did better than others?\n",
    "\n",
    "TODO: In the cell below, use the `RunDetails` widget to show the different experiments."
   ]
  },
  {
   "cell_type": "code",
   "execution_count": 10,
   "metadata": {
    "gather": {
     "logged": 1598431121770
    },
    "jupyter": {
     "outputs_hidden": false,
     "source_hidden": false
    },
    "nteract": {
     "transient": {
      "deleting": false
     }
    }
   },
   "outputs": [
    {
     "data": {
      "application/vnd.jupyter.widget-view+json": {
       "model_id": "74a60052e7c0433484a5e291c4565d48",
       "version_major": 2,
       "version_minor": 0
      },
      "text/plain": [
       "_AutoMLWidget(widget_settings={'childWidgetDisplay': 'popup', 'send_telemetry': False, 'log_level': 'INFO', 's…"
      ]
     },
     "metadata": {},
     "output_type": "display_data"
    },
    {
     "data": {
      "application/aml.mini.widget.v1": "{\"status\": \"Completed\", \"workbench_run_details_uri\": \"https://ml.azure.com/experiments/heart_disease_automl/runs/AutoML_3fa58aab-ed3e-4b9c-9da8-ce8090e48a0b?wsid=/subscriptions/a0a76bad-11a1-4a2d-9887-97a29122c8ed/resourcegroups/aml-quickstarts-135357/workspaces/quick-starts-ws-135357\", \"run_id\": \"AutoML_3fa58aab-ed3e-4b9c-9da8-ce8090e48a0b\", \"run_properties\": {\"run_id\": \"AutoML_3fa58aab-ed3e-4b9c-9da8-ce8090e48a0b\", \"created_utc\": \"2021-01-19T15:10:47.60323Z\", \"properties\": {\"num_iterations\": \"1000\", \"training_type\": \"TrainFull\", \"acquisition_function\": \"EI\", \"primary_metric\": \"accuracy\", \"train_split\": \"0\", \"acquisition_parameter\": \"0\", \"num_cross_validation\": \"5\", \"target\": \"local\", \"AMLSettingsJsonString\": \"{\\\"path\\\":null,\\\"name\\\":\\\"heart_disease_automl\\\",\\\"subscription_id\\\":\\\"a0a76bad-11a1-4a2d-9887-97a29122c8ed\\\",\\\"resource_group\\\":\\\"aml-quickstarts-135357\\\",\\\"workspace_name\\\":\\\"quick-starts-ws-135357\\\",\\\"region\\\":\\\"southcentralus\\\",\\\"compute_target\\\":\\\"local\\\",\\\"spark_service\\\":null,\\\"azure_service\\\":\\\"Microsoft.AzureNotebookVM\\\",\\\"many_models\\\":false,\\\"pipeline_fetch_max_batch_size\\\":1,\\\"iterations\\\":1000,\\\"primary_metric\\\":\\\"accuracy\\\",\\\"task_type\\\":\\\"classification\\\",\\\"data_script\\\":null,\\\"validation_size\\\":0.0,\\\"n_cross_validations\\\":5,\\\"y_min\\\":null,\\\"y_max\\\":null,\\\"num_classes\\\":2,\\\"featurization\\\":\\\"auto\\\",\\\"_ignore_package_version_incompatibilities\\\":false,\\\"is_timeseries\\\":false,\\\"max_cores_per_iteration\\\":1,\\\"max_concurrent_iterations\\\":1,\\\"iteration_timeout_minutes\\\":null,\\\"mem_in_mb\\\":null,\\\"enforce_time_on_windows\\\":false,\\\"experiment_timeout_minutes\\\":20,\\\"experiment_exit_score\\\":null,\\\"whitelist_models\\\":null,\\\"blacklist_algos\\\":[\\\"TensorFlowLinearClassifier\\\",\\\"TensorFlowDNN\\\"],\\\"supported_models\\\":[\\\"TensorFlowLinearClassifier\\\",\\\"GradientBoosting\\\",\\\"RandomForest\\\",\\\"LinearSVM\\\",\\\"XGBoostClassifier\\\",\\\"TensorFlowDNN\\\",\\\"MultinomialNaiveBayes\\\",\\\"SGD\\\",\\\"BernoulliNaiveBayes\\\",\\\"KNN\\\",\\\"DecisionTree\\\",\\\"ExtremeRandomTrees\\\",\\\"SVM\\\",\\\"AveragedPerceptronClassifier\\\",\\\"LogisticRegression\\\",\\\"LightGBM\\\"],\\\"auto_blacklist\\\":true,\\\"blacklist_samples_reached\\\":false,\\\"exclude_nan_labels\\\":true,\\\"verbosity\\\":20,\\\"_debug_log\\\":\\\"automl.log\\\",\\\"show_warnings\\\":false,\\\"model_explainability\\\":true,\\\"service_url\\\":null,\\\"sdk_url\\\":null,\\\"sdk_packages\\\":null,\\\"enable_onnx_compatible_models\\\":false,\\\"enable_split_onnx_featurizer_estimator_models\\\":false,\\\"vm_type\\\":null,\\\"telemetry_verbosity\\\":20,\\\"send_telemetry\\\":true,\\\"enable_dnn\\\":false,\\\"scenario\\\":\\\"SDK-1.13.0\\\",\\\"environment_label\\\":null,\\\"force_text_dnn\\\":false,\\\"enable_feature_sweeping\\\":true,\\\"enable_early_stopping\\\":false,\\\"early_stopping_n_iters\\\":10,\\\"metrics\\\":null,\\\"enable_ensembling\\\":true,\\\"enable_stack_ensembling\\\":true,\\\"ensemble_iterations\\\":15,\\\"enable_tf\\\":false,\\\"enable_subsampling\\\":null,\\\"subsample_seed\\\":null,\\\"enable_nimbusml\\\":false,\\\"enable_streaming\\\":false,\\\"force_streaming\\\":false,\\\"track_child_runs\\\":true,\\\"allowed_private_models\\\":[],\\\"label_column_name\\\":\\\"target\\\",\\\"weight_column_name\\\":null,\\\"cv_split_column_names\\\":null,\\\"enable_local_managed\\\":false,\\\"_local_managed_run_id\\\":null,\\\"cost_mode\\\":1,\\\"lag_length\\\":0,\\\"metric_operation\\\":\\\"maximize\\\",\\\"preprocess\\\":true}\", \"DataPrepJsonString\": null, \"EnableSubsampling\": null, \"runTemplate\": \"AutoML\", \"azureml.runsource\": \"automl\", \"display_task_type\": \"classification\", \"dependencies_versions\": \"{\\\"azureml-widgets\\\": \\\"1.19.0\\\", \\\"azureml-train\\\": \\\"1.19.0\\\", \\\"azureml-train-restclients-hyperdrive\\\": \\\"1.19.0\\\", \\\"azureml-train-core\\\": \\\"1.19.0\\\", \\\"azureml-train-automl\\\": \\\"1.19.0\\\", \\\"azureml-train-automl-runtime\\\": \\\"1.19.0\\\", \\\"azureml-train-automl-client\\\": \\\"1.19.0\\\", \\\"azureml-tensorboard\\\": \\\"1.19.0\\\", \\\"azureml-telemetry\\\": \\\"1.19.0\\\", \\\"azureml-sdk\\\": \\\"1.19.0\\\", \\\"azureml-samples\\\": \\\"0+unknown\\\", \\\"azureml-pipeline\\\": \\\"1.19.0\\\", \\\"azureml-pipeline-steps\\\": \\\"1.19.0\\\", \\\"azureml-pipeline-core\\\": \\\"1.19.0\\\", \\\"azureml-opendatasets\\\": \\\"1.19.0\\\", \\\"azureml-model-management-sdk\\\": \\\"1.0.1b6.post1\\\", \\\"azureml-mlflow\\\": \\\"1.19.0\\\", \\\"azureml-interpret\\\": \\\"1.19.0\\\", \\\"azureml-explain-model\\\": \\\"1.19.0\\\", \\\"azureml-defaults\\\": \\\"1.19.0\\\", \\\"azureml-dataset-runtime\\\": \\\"1.19.0.post1\\\", \\\"azureml-dataprep\\\": \\\"2.6.1\\\", \\\"azureml-dataprep-rslex\\\": \\\"1.4.0\\\", \\\"azureml-dataprep-native\\\": \\\"26.0.0\\\", \\\"azureml-datadrift\\\": \\\"1.19.0\\\", \\\"azureml-core\\\": \\\"1.19.0\\\", \\\"azureml-contrib-services\\\": \\\"1.19.0\\\", \\\"azureml-contrib-server\\\": \\\"1.19.0\\\", \\\"azureml-contrib-reinforcementlearning\\\": \\\"1.19.0\\\", \\\"azureml-contrib-pipeline-steps\\\": \\\"1.19.0\\\", \\\"azureml-contrib-notebook\\\": \\\"1.19.0\\\", \\\"azureml-contrib-interpret\\\": \\\"1.19.0\\\", \\\"azureml-contrib-gbdt\\\": \\\"1.19.0\\\", \\\"azureml-contrib-fairness\\\": \\\"1.19.0\\\", \\\"azureml-contrib-dataset\\\": \\\"1.19.0\\\", \\\"azureml-cli-common\\\": \\\"1.19.0\\\", \\\"azureml-automl-runtime\\\": \\\"1.19.0\\\", \\\"azureml-automl-core\\\": \\\"1.19.0\\\", \\\"azureml-accel-models\\\": \\\"1.19.0\\\"}\", \"_aml_system_scenario_identification\": \"Local.Parent\", \"ClientSdkVersion\": \"1.19.0\", \"ClientType\": \"SDK\", \"environment_cpu_name\": \"AzureML-AutoML\", \"environment_cpu_label\": \"prod\", \"environment_gpu_name\": \"AzureML-AutoML-GPU\", \"environment_gpu_label\": \"prod\", \"root_attribution\": \"automl\", \"attribution\": \"AutoML\", \"Orchestrator\": \"AutoML\", \"_azureml.ComputeTargetType\": \"local\", \"ProblemInfoJsonString\": \"{\\\"dataset_num_categorical\\\": 0, \\\"is_sparse\\\": true, \\\"subsampling\\\": false, \\\"dataset_classes\\\": 2, \\\"dataset_features\\\": 27, \\\"dataset_samples\\\": 227, \\\"single_frequency_class_detected\\\": false}\", \"feature_skus\": \"automatedml_sdk_guardrails\"}, \"tags\": {\"model_explain_run\": \"best_run\", \"best_score\": \"0.8721739130434782\", \"best_pipeline\": \"VotingEnsemble\", \"automl_best_child_run_id\": \"AutoML_3fa58aab-ed3e-4b9c-9da8-ce8090e48a0b_41\", \"model_explain_best_run_child_id\": \"AutoML_3fa58aab-ed3e-4b9c-9da8-ce8090e48a0b_41\"}, \"end_time_utc\": \"2021-01-19T15:32:21.112391Z\", \"status\": \"Completed\", \"log_files\": {}, \"log_groups\": [], \"run_duration\": \"0:21:33\"}, \"child_runs\": [{\"run_id\": \"AutoML_3fa58aab-ed3e-4b9c-9da8-ce8090e48a0b_0\", \"run_number\": 3, \"metric\": null, \"status\": \"Completed\", \"run_type\": null, \"training_percent\": \"100\", \"start_time\": \"2021-01-19T15:11:03.579467Z\", \"end_time\": \"2021-01-19T15:11:34.233408Z\", \"created_time\": \"2021-01-19T15:11:03.44419Z\", \"created_time_dt\": \"2021-01-19T15:11:03.44419Z\", \"duration\": \"0:00:30\", \"iteration\": \"0\", \"goal\": \"accuracy_max\", \"run_name\": \"MaxAbsScaler, LightGBM\", \"run_properties\": \"copy=True\", \"primary_metric\": 0.79275362, \"best_metric\": 0.79275362}, {\"run_id\": \"AutoML_3fa58aab-ed3e-4b9c-9da8-ce8090e48a0b_1\", \"run_number\": 4, \"metric\": null, \"status\": \"Completed\", \"run_type\": null, \"training_percent\": \"100\", \"start_time\": \"2021-01-19T15:11:34.611254Z\", \"end_time\": \"2021-01-19T15:11:59.07416Z\", \"created_time\": \"2021-01-19T15:11:34.493606Z\", \"created_time_dt\": \"2021-01-19T15:11:34.493606Z\", \"duration\": \"0:00:24\", \"iteration\": \"1\", \"goal\": \"accuracy_max\", \"run_name\": \"MaxAbsScaler, XGBoostClassifier\", \"run_properties\": \"copy=True\", \"primary_metric\": 0.78859903, \"best_metric\": 0.79275362}, {\"run_id\": \"AutoML_3fa58aab-ed3e-4b9c-9da8-ce8090e48a0b_2\", \"run_number\": 5, \"metric\": null, \"status\": \"Completed\", \"run_type\": null, \"training_percent\": \"100\", \"start_time\": \"2021-01-19T15:11:59.783318Z\", \"end_time\": \"2021-01-19T15:12:29.566017Z\", \"created_time\": \"2021-01-19T15:11:59.667963Z\", \"created_time_dt\": \"2021-01-19T15:11:59.667963Z\", \"duration\": \"0:00:29\", \"iteration\": \"2\", \"goal\": \"accuracy_max\", \"run_name\": \"MaxAbsScaler, RandomForest\", \"run_properties\": \"copy=True\", \"primary_metric\": 0.8105314, \"best_metric\": 0.8105314}, {\"run_id\": \"AutoML_3fa58aab-ed3e-4b9c-9da8-ce8090e48a0b_3\", \"run_number\": 6, \"metric\": null, \"status\": \"Completed\", \"run_type\": null, \"training_percent\": \"100\", \"start_time\": \"2021-01-19T15:12:30.994322Z\", \"end_time\": \"2021-01-19T15:13:00.39105Z\", \"created_time\": \"2021-01-19T15:12:30.865587Z\", \"created_time_dt\": \"2021-01-19T15:12:30.865587Z\", \"duration\": \"0:00:29\", \"iteration\": \"3\", \"goal\": \"accuracy_max\", \"run_name\": \"MaxAbsScaler, RandomForest\", \"run_properties\": \"copy=True\", \"primary_metric\": 0.80599034, \"best_metric\": 0.8105314}, {\"run_id\": \"AutoML_3fa58aab-ed3e-4b9c-9da8-ce8090e48a0b_4\", \"run_number\": 7, \"metric\": null, \"status\": \"Completed\", \"run_type\": null, \"training_percent\": \"100\", \"start_time\": \"2021-01-19T15:13:02.190027Z\", \"end_time\": \"2021-01-19T15:13:26.659212Z\", \"created_time\": \"2021-01-19T15:13:02.070164Z\", \"created_time_dt\": \"2021-01-19T15:13:02.070164Z\", \"duration\": \"0:00:24\", \"iteration\": \"4\", \"goal\": \"accuracy_max\", \"run_name\": \"MaxAbsScaler, RandomForest\", \"run_properties\": \"copy=True\", \"primary_metric\": 0.80144928, \"best_metric\": 0.8105314}, {\"run_id\": \"AutoML_3fa58aab-ed3e-4b9c-9da8-ce8090e48a0b_5\", \"run_number\": 8, \"metric\": null, \"status\": \"Completed\", \"run_type\": null, \"training_percent\": \"100\", \"start_time\": \"2021-01-19T15:13:28.234391Z\", \"end_time\": \"2021-01-19T15:13:52.910633Z\", \"created_time\": \"2021-01-19T15:13:28.130645Z\", \"created_time_dt\": \"2021-01-19T15:13:28.130645Z\", \"duration\": \"0:00:24\", \"iteration\": \"5\", \"goal\": \"accuracy_max\", \"run_name\": \"MaxAbsScaler, RandomForest\", \"run_properties\": \"copy=True\", \"primary_metric\": 0.80173913, \"best_metric\": 0.8105314}, {\"run_id\": \"AutoML_3fa58aab-ed3e-4b9c-9da8-ce8090e48a0b_6\", \"run_number\": 9, \"metric\": null, \"status\": \"Completed\", \"run_type\": null, \"training_percent\": \"100\", \"start_time\": \"2021-01-19T15:13:54.214684Z\", \"end_time\": \"2021-01-19T15:14:18.479303Z\", \"created_time\": \"2021-01-19T15:13:54.100015Z\", \"created_time_dt\": \"2021-01-19T15:13:54.100015Z\", \"duration\": \"0:00:24\", \"iteration\": \"6\", \"goal\": \"accuracy_max\", \"run_name\": \"SparseNormalizer, XGBoostClassifier\", \"run_properties\": \"<azureml.automl.runtime.shared.model_wrappers.SparseNormalizer object at 0x7fe9b8c10cc0\", \"primary_metric\": 0.80183575, \"best_metric\": 0.8105314}, {\"run_id\": \"AutoML_3fa58aab-ed3e-4b9c-9da8-ce8090e48a0b_7\", \"run_number\": 10, \"metric\": null, \"status\": \"Completed\", \"run_type\": null, \"training_percent\": \"100\", \"start_time\": \"2021-01-19T15:14:19.674573Z\", \"end_time\": \"2021-01-19T15:14:50.519645Z\", \"created_time\": \"2021-01-19T15:14:19.567388Z\", \"created_time_dt\": \"2021-01-19T15:14:19.567388Z\", \"duration\": \"0:00:30\", \"iteration\": \"7\", \"goal\": \"accuracy_max\", \"run_name\": \"MaxAbsScaler, RandomForest\", \"run_properties\": \"copy=True\", \"primary_metric\": 0.81507246, \"best_metric\": 0.81507246}, {\"run_id\": \"AutoML_3fa58aab-ed3e-4b9c-9da8-ce8090e48a0b_8\", \"run_number\": 11, \"metric\": null, \"status\": \"Completed\", \"run_type\": null, \"training_percent\": \"100\", \"start_time\": \"2021-01-19T15:14:51.907794Z\", \"end_time\": \"2021-01-19T15:15:16.040579Z\", \"created_time\": \"2021-01-19T15:14:51.776573Z\", \"created_time_dt\": \"2021-01-19T15:14:51.776573Z\", \"duration\": \"0:00:24\", \"iteration\": \"8\", \"goal\": \"accuracy_max\", \"run_name\": \"SparseNormalizer, LightGBM\", \"run_properties\": \"<azureml.automl.runtime.shared.model_wrappers.SparseNormalizer object at 0x7fe8ae217898\", \"primary_metric\": 0.8105314, \"best_metric\": 0.81507246}, {\"run_id\": \"AutoML_3fa58aab-ed3e-4b9c-9da8-ce8090e48a0b_9\", \"run_number\": 12, \"metric\": null, \"status\": \"Completed\", \"run_type\": null, \"training_percent\": \"100\", \"start_time\": \"2021-01-19T15:15:17.218205Z\", \"end_time\": \"2021-01-19T15:15:40.568914Z\", \"created_time\": \"2021-01-19T15:15:17.114379Z\", \"created_time_dt\": \"2021-01-19T15:15:17.114379Z\", \"duration\": \"0:00:23\", \"iteration\": \"9\", \"goal\": \"accuracy_max\", \"run_name\": \"MaxAbsScaler, LogisticRegression\", \"run_properties\": \"copy=True\", \"primary_metric\": 0.85458937, \"best_metric\": 0.85458937}, {\"run_id\": \"AutoML_3fa58aab-ed3e-4b9c-9da8-ce8090e48a0b_10\", \"run_number\": 13, \"metric\": null, \"status\": \"Completed\", \"run_type\": null, \"training_percent\": \"100\", \"start_time\": \"2021-01-19T15:15:42.103971Z\", \"end_time\": \"2021-01-19T15:16:06.415384Z\", \"created_time\": \"2021-01-19T15:15:41.995898Z\", \"created_time_dt\": \"2021-01-19T15:15:41.995898Z\", \"duration\": \"0:00:24\", \"iteration\": \"10\", \"goal\": \"accuracy_max\", \"run_name\": \"SparseNormalizer, XGBoostClassifier\", \"run_properties\": \"<azureml.automl.runtime.shared.model_wrappers.SparseNormalizer object at 0x7fe8a806fda0\", \"primary_metric\": 0.81497585, \"best_metric\": 0.85458937}, {\"run_id\": \"AutoML_3fa58aab-ed3e-4b9c-9da8-ce8090e48a0b_11\", \"run_number\": 14, \"metric\": null, \"status\": \"Completed\", \"run_type\": null, \"training_percent\": \"100\", \"start_time\": \"2021-01-19T15:16:07.732745Z\", \"end_time\": \"2021-01-19T15:16:35.352311Z\", \"created_time\": \"2021-01-19T15:16:07.618402Z\", \"created_time_dt\": \"2021-01-19T15:16:07.618402Z\", \"duration\": \"0:00:27\", \"iteration\": \"11\", \"goal\": \"accuracy_max\", \"run_name\": \"MaxAbsScaler, LightGBM\", \"run_properties\": \"copy=True\", \"primary_metric\": 0.81072464, \"best_metric\": 0.85458937}, {\"run_id\": \"AutoML_3fa58aab-ed3e-4b9c-9da8-ce8090e48a0b_12\", \"run_number\": 15, \"metric\": null, \"status\": \"Completed\", \"run_type\": null, \"training_percent\": \"100\", \"start_time\": \"2021-01-19T15:16:36.865774Z\", \"end_time\": \"2021-01-19T15:17:06.313684Z\", \"created_time\": \"2021-01-19T15:16:36.763501Z\", \"created_time_dt\": \"2021-01-19T15:16:36.763501Z\", \"duration\": \"0:00:29\", \"iteration\": \"12\", \"goal\": \"accuracy_max\", \"run_name\": \"StandardScalerWrapper, LightGBM\", \"run_properties\": \"<azureml.automl.runtime.shared.model_wrappers.StandardScalerWrapper object at 0x7fe8a802aac8\", \"primary_metric\": 0.84144928, \"best_metric\": 0.85458937}, {\"run_id\": \"AutoML_3fa58aab-ed3e-4b9c-9da8-ce8090e48a0b_13\", \"run_number\": 16, \"metric\": null, \"status\": \"Completed\", \"run_type\": null, \"training_percent\": \"100\", \"start_time\": \"2021-01-19T15:17:08.134271Z\", \"end_time\": \"2021-01-19T15:17:31.629772Z\", \"created_time\": \"2021-01-19T15:17:08.014112Z\", \"created_time_dt\": \"2021-01-19T15:17:08.014112Z\", \"duration\": \"0:00:23\", \"iteration\": \"13\", \"goal\": \"accuracy_max\", \"run_name\": \"MaxAbsScaler, LogisticRegression\", \"run_properties\": \"copy=True\", \"primary_metric\": 0.84589372, \"best_metric\": 0.85458937}, {\"run_id\": \"AutoML_3fa58aab-ed3e-4b9c-9da8-ce8090e48a0b_14\", \"run_number\": 17, \"metric\": null, \"status\": \"Completed\", \"run_type\": null, \"training_percent\": \"100\", \"start_time\": \"2021-01-19T15:17:32.861344Z\", \"end_time\": \"2021-01-19T15:18:05.101056Z\", \"created_time\": \"2021-01-19T15:17:32.738253Z\", \"created_time_dt\": \"2021-01-19T15:17:32.738253Z\", \"duration\": \"0:00:32\", \"iteration\": \"14\", \"goal\": \"accuracy_max\", \"run_name\": \"MaxAbsScaler, ExtremeRandomTrees\", \"run_properties\": \"copy=True\", \"primary_metric\": 0.8105314, \"best_metric\": 0.85458937}, {\"run_id\": \"AutoML_3fa58aab-ed3e-4b9c-9da8-ce8090e48a0b_15\", \"run_number\": 18, \"metric\": null, \"status\": \"Completed\", \"run_type\": null, \"training_percent\": \"100\", \"start_time\": \"2021-01-19T15:18:06.781877Z\", \"end_time\": \"2021-01-19T15:18:36.006519Z\", \"created_time\": \"2021-01-19T15:18:06.638981Z\", \"created_time_dt\": \"2021-01-19T15:18:06.638981Z\", \"duration\": \"0:00:29\", \"iteration\": \"15\", \"goal\": \"accuracy_max\", \"run_name\": \"MaxAbsScaler, LightGBM\", \"run_properties\": \"copy=True\", \"primary_metric\": 0.81942029, \"best_metric\": 0.85458937}, {\"run_id\": \"AutoML_3fa58aab-ed3e-4b9c-9da8-ce8090e48a0b_16\", \"run_number\": 19, \"metric\": null, \"status\": \"Completed\", \"run_type\": null, \"training_percent\": \"100\", \"start_time\": \"2021-01-19T15:18:38.524658Z\", \"end_time\": \"2021-01-19T15:19:09.106704Z\", \"created_time\": \"2021-01-19T15:18:38.029386Z\", \"created_time_dt\": \"2021-01-19T15:18:38.029386Z\", \"duration\": \"0:00:31\", \"iteration\": \"16\", \"goal\": \"accuracy_max\", \"run_name\": \"MaxAbsScaler, LightGBM\", \"run_properties\": \"copy=True\", \"primary_metric\": 0.78415459, \"best_metric\": 0.85458937}, {\"run_id\": \"AutoML_3fa58aab-ed3e-4b9c-9da8-ce8090e48a0b_17\", \"run_number\": 20, \"metric\": null, \"status\": \"Completed\", \"run_type\": null, \"training_percent\": \"100\", \"start_time\": \"2021-01-19T15:19:11.32701Z\", \"end_time\": \"2021-01-19T15:19:37.512888Z\", \"created_time\": \"2021-01-19T15:19:10.933941Z\", \"created_time_dt\": \"2021-01-19T15:19:10.933941Z\", \"duration\": \"0:00:26\", \"iteration\": \"17\", \"goal\": \"accuracy_max\", \"run_name\": \"StandardScalerWrapper, ExtremeRandomTrees\", \"run_properties\": \"<azureml.automl.runtime.shared.model_wrappers.StandardScalerWrapper object at 0x7fe8a05b3710\", \"primary_metric\": 0.83690821, \"best_metric\": 0.85458937}, {\"run_id\": \"AutoML_3fa58aab-ed3e-4b9c-9da8-ce8090e48a0b_18\", \"run_number\": 21, \"metric\": null, \"status\": \"Completed\", \"run_type\": null, \"training_percent\": \"100\", \"start_time\": \"2021-01-19T15:19:38.677462Z\", \"end_time\": \"2021-01-19T15:20:01.89918Z\", \"created_time\": \"2021-01-19T15:19:38.568551Z\", \"created_time_dt\": \"2021-01-19T15:19:38.568551Z\", \"duration\": \"0:00:23\", \"iteration\": \"18\", \"goal\": \"accuracy_max\", \"run_name\": \"StandardScalerWrapper, LightGBM\", \"run_properties\": \"<azureml.automl.runtime.shared.model_wrappers.StandardScalerWrapper object at 0x7fe8a044bc88\", \"primary_metric\": 0.78, \"best_metric\": 0.85458937}, {\"run_id\": \"AutoML_3fa58aab-ed3e-4b9c-9da8-ce8090e48a0b_19\", \"run_number\": 22, \"metric\": null, \"status\": \"Completed\", \"run_type\": null, \"training_percent\": \"100\", \"start_time\": \"2021-01-19T15:20:03.225843Z\", \"end_time\": \"2021-01-19T15:20:26.266732Z\", \"created_time\": \"2021-01-19T15:20:03.115449Z\", \"created_time_dt\": \"2021-01-19T15:20:03.115449Z\", \"duration\": \"0:00:23\", \"iteration\": \"19\", \"goal\": \"accuracy_max\", \"run_name\": \"SparseNormalizer, LightGBM\", \"run_properties\": \"<azureml.automl.runtime.shared.model_wrappers.SparseNormalizer object at 0x7fe8a8060278\", \"primary_metric\": 0.78879227, \"best_metric\": 0.85458937}, {\"run_id\": \"AutoML_3fa58aab-ed3e-4b9c-9da8-ce8090e48a0b_20\", \"run_number\": 23, \"metric\": null, \"status\": \"Completed\", \"run_type\": null, \"training_percent\": \"100\", \"start_time\": \"2021-01-19T15:20:27.467318Z\", \"end_time\": \"2021-01-19T15:21:01.574537Z\", \"created_time\": \"2021-01-19T15:20:27.352154Z\", \"created_time_dt\": \"2021-01-19T15:20:27.352154Z\", \"duration\": \"0:00:34\", \"iteration\": \"20\", \"goal\": \"accuracy_max\", \"run_name\": \"MaxAbsScaler, LightGBM\", \"run_properties\": \"copy=True\", \"primary_metric\": 0.81932367, \"best_metric\": 0.85458937}, {\"run_id\": \"AutoML_3fa58aab-ed3e-4b9c-9da8-ce8090e48a0b_21\", \"run_number\": 24, \"metric\": null, \"status\": \"Completed\", \"run_type\": null, \"training_percent\": \"100\", \"start_time\": \"2021-01-19T15:21:02.94166Z\", \"end_time\": \"2021-01-19T15:21:26.143602Z\", \"created_time\": \"2021-01-19T15:21:02.780512Z\", \"created_time_dt\": \"2021-01-19T15:21:02.780512Z\", \"duration\": \"0:00:23\", \"iteration\": \"21\", \"goal\": \"accuracy_max\", \"run_name\": \"StandardScalerWrapper, LightGBM\", \"run_properties\": \"<azureml.automl.runtime.shared.model_wrappers.StandardScalerWrapper object at 0x7fe8a04de710\", \"primary_metric\": 0.8105314, \"best_metric\": 0.85458937}, {\"run_id\": \"AutoML_3fa58aab-ed3e-4b9c-9da8-ce8090e48a0b_22\", \"run_number\": 25, \"metric\": null, \"status\": \"Completed\", \"run_type\": null, \"training_percent\": \"100\", \"start_time\": \"2021-01-19T15:21:27.357612Z\", \"end_time\": \"2021-01-19T15:21:52.760513Z\", \"created_time\": \"2021-01-19T15:21:27.238785Z\", \"created_time_dt\": \"2021-01-19T15:21:27.238785Z\", \"duration\": \"0:00:25\", \"iteration\": \"22\", \"goal\": \"accuracy_max\", \"run_name\": \"MaxAbsScaler, RandomForest\", \"run_properties\": \"copy=True\", \"primary_metric\": 0.82811594, \"best_metric\": 0.85458937}, {\"run_id\": \"AutoML_3fa58aab-ed3e-4b9c-9da8-ce8090e48a0b_23\", \"run_number\": 26, \"metric\": null, \"status\": \"Completed\", \"run_type\": null, \"training_percent\": \"100\", \"start_time\": \"2021-01-19T15:21:54.072747Z\", \"end_time\": \"2021-01-19T15:22:17.299712Z\", \"created_time\": \"2021-01-19T15:21:53.951365Z\", \"created_time_dt\": \"2021-01-19T15:21:53.951365Z\", \"duration\": \"0:00:23\", \"iteration\": \"23\", \"goal\": \"accuracy_max\", \"run_name\": \"StandardScalerWrapper, LightGBM\", \"run_properties\": \"<azureml.automl.runtime.shared.model_wrappers.StandardScalerWrapper object at 0x7fe8ae242400\", \"primary_metric\": 0.82811594, \"best_metric\": 0.85458937}, {\"run_id\": \"AutoML_3fa58aab-ed3e-4b9c-9da8-ce8090e48a0b_24\", \"run_number\": 27, \"metric\": null, \"status\": \"Completed\", \"run_type\": null, \"training_percent\": \"100\", \"start_time\": \"2021-01-19T15:22:19.304631Z\", \"end_time\": \"2021-01-19T15:22:46.530925Z\", \"created_time\": \"2021-01-19T15:22:18.601287Z\", \"created_time_dt\": \"2021-01-19T15:22:18.601287Z\", \"duration\": \"0:00:27\", \"iteration\": \"24\", \"goal\": \"accuracy_max\", \"run_name\": \"MaxAbsScaler, LightGBM\", \"run_properties\": \"copy=True\", \"primary_metric\": 0.80154589, \"best_metric\": 0.85458937}, {\"run_id\": \"AutoML_3fa58aab-ed3e-4b9c-9da8-ce8090e48a0b_25\", \"run_number\": 28, \"metric\": null, \"status\": \"Completed\", \"run_type\": null, \"training_percent\": \"100\", \"start_time\": \"2021-01-19T15:22:48.805502Z\", \"end_time\": \"2021-01-19T15:23:17.989544Z\", \"created_time\": \"2021-01-19T15:22:48.634354Z\", \"created_time_dt\": \"2021-01-19T15:22:48.634354Z\", \"duration\": \"0:00:29\", \"iteration\": \"25\", \"goal\": \"accuracy_max\", \"run_name\": \"StandardScalerWrapper, LogisticRegression\", \"run_properties\": \"<azureml.automl.runtime.shared.model_wrappers.StandardScalerWrapper object at 0x7fe8a0546c18\", \"primary_metric\": 0.68270531, \"best_metric\": 0.85458937}, {\"run_id\": \"AutoML_3fa58aab-ed3e-4b9c-9da8-ce8090e48a0b_26\", \"run_number\": 29, \"metric\": null, \"status\": \"Completed\", \"run_type\": null, \"training_percent\": \"100\", \"start_time\": \"2021-01-19T15:23:19.408275Z\", \"end_time\": \"2021-01-19T15:23:50.001997Z\", \"created_time\": \"2021-01-19T15:23:19.235998Z\", \"created_time_dt\": \"2021-01-19T15:23:19.235998Z\", \"duration\": \"0:00:30\", \"iteration\": \"26\", \"goal\": \"accuracy_max\", \"run_name\": \"StandardScalerWrapper, LightGBM\", \"run_properties\": \"<azureml.automl.runtime.shared.model_wrappers.StandardScalerWrapper object at 0x7fe8a07867b8\", \"primary_metric\": 0.81043478, \"best_metric\": 0.85458937}, {\"run_id\": \"AutoML_3fa58aab-ed3e-4b9c-9da8-ce8090e48a0b_27\", \"run_number\": 30, \"metric\": null, \"status\": \"Completed\", \"run_type\": null, \"training_percent\": \"100\", \"start_time\": \"2021-01-19T15:23:52.09733Z\", \"end_time\": \"2021-01-19T15:24:18.744403Z\", \"created_time\": \"2021-01-19T15:23:51.28335Z\", \"created_time_dt\": \"2021-01-19T15:23:51.28335Z\", \"duration\": \"0:00:27\", \"iteration\": \"27\", \"goal\": \"accuracy_max\", \"run_name\": \"MaxAbsScaler, DecisionTree\", \"run_properties\": \"copy=True\", \"primary_metric\": 0.70096618, \"best_metric\": 0.85458937}, {\"run_id\": \"AutoML_3fa58aab-ed3e-4b9c-9da8-ce8090e48a0b_28\", \"run_number\": 31, \"metric\": null, \"status\": \"Completed\", \"run_type\": null, \"training_percent\": \"100\", \"start_time\": \"2021-01-19T15:24:20.400161Z\", \"end_time\": \"2021-01-19T15:24:45.708292Z\", \"created_time\": \"2021-01-19T15:24:20.093276Z\", \"created_time_dt\": \"2021-01-19T15:24:20.093276Z\", \"duration\": \"0:00:25\", \"iteration\": \"28\", \"goal\": \"accuracy_max\", \"run_name\": \"SparseNormalizer, XGBoostClassifier\", \"run_properties\": \"<azureml.automl.runtime.shared.model_wrappers.SparseNormalizer object at 0x7fe8a816dc88\", \"primary_metric\": 0.80599034, \"best_metric\": 0.85458937}, {\"run_id\": \"AutoML_3fa58aab-ed3e-4b9c-9da8-ce8090e48a0b_29\", \"run_number\": 32, \"metric\": null, \"status\": \"Completed\", \"run_type\": null, \"training_percent\": \"100\", \"start_time\": \"2021-01-19T15:24:47.121289Z\", \"end_time\": \"2021-01-19T15:25:11.842113Z\", \"created_time\": \"2021-01-19T15:24:46.961549Z\", \"created_time_dt\": \"2021-01-19T15:24:46.961549Z\", \"duration\": \"0:00:24\", \"iteration\": \"29\", \"goal\": \"accuracy_max\", \"run_name\": \"StandardScalerWrapper, XGBoostClassifier\", \"run_properties\": \"<azureml.automl.runtime.shared.model_wrappers.StandardScalerWrapper object at 0x7fe8a04c2470\", \"primary_metric\": 0.81043478, \"best_metric\": 0.85458937}, {\"run_id\": \"AutoML_3fa58aab-ed3e-4b9c-9da8-ce8090e48a0b_30\", \"run_number\": 33, \"metric\": null, \"status\": \"Completed\", \"run_type\": null, \"training_percent\": \"100\", \"start_time\": \"2021-01-19T15:25:14.460535Z\", \"end_time\": \"2021-01-19T15:25:39.065096Z\", \"created_time\": \"2021-01-19T15:25:14.151166Z\", \"created_time_dt\": \"2021-01-19T15:25:14.151166Z\", \"duration\": \"0:00:24\", \"iteration\": \"30\", \"goal\": \"accuracy_max\", \"run_name\": \"SparseNormalizer, LogisticRegression\", \"run_properties\": \"<azureml.automl.runtime.shared.model_wrappers.SparseNormalizer object at 0x7fe8a032a208\", \"primary_metric\": 0.54637681, \"best_metric\": 0.85458937}, {\"run_id\": \"AutoML_3fa58aab-ed3e-4b9c-9da8-ce8090e48a0b_31\", \"run_number\": 34, \"metric\": null, \"status\": \"Completed\", \"run_type\": null, \"training_percent\": \"100\", \"start_time\": \"2021-01-19T15:25:42.324661Z\", \"end_time\": \"2021-01-19T15:26:15.35421Z\", \"created_time\": \"2021-01-19T15:25:41.741481Z\", \"created_time_dt\": \"2021-01-19T15:25:41.741481Z\", \"duration\": \"0:00:33\", \"iteration\": \"31\", \"goal\": \"accuracy_max\", \"run_name\": \"StandardScalerWrapper, RandomForest\", \"run_properties\": \"<azureml.automl.runtime.shared.model_wrappers.StandardScalerWrapper object at 0x7fe8a0587b70\", \"primary_metric\": 0.82792271, \"best_metric\": 0.85458937}, {\"run_id\": \"AutoML_3fa58aab-ed3e-4b9c-9da8-ce8090e48a0b_32\", \"run_number\": 35, \"metric\": null, \"status\": \"Completed\", \"run_type\": null, \"training_percent\": \"100\", \"start_time\": \"2021-01-19T15:26:17.919478Z\", \"end_time\": \"2021-01-19T15:26:47.514389Z\", \"created_time\": \"2021-01-19T15:26:17.449481Z\", \"created_time_dt\": \"2021-01-19T15:26:17.449481Z\", \"duration\": \"0:00:30\", \"iteration\": \"32\", \"goal\": \"accuracy_max\", \"run_name\": \"StandardScalerWrapper, LightGBM\", \"run_properties\": \"<azureml.automl.runtime.shared.model_wrappers.StandardScalerWrapper object at 0x7fe8a0798da0\", \"primary_metric\": 0.832657, \"best_metric\": 0.85458937}, {\"run_id\": \"AutoML_3fa58aab-ed3e-4b9c-9da8-ce8090e48a0b_33\", \"run_number\": 36, \"metric\": null, \"status\": \"Completed\", \"run_type\": null, \"training_percent\": \"100\", \"start_time\": \"2021-01-19T15:26:50.780943Z\", \"end_time\": \"2021-01-19T15:27:21.710374Z\", \"created_time\": \"2021-01-19T15:26:48.75578Z\", \"created_time_dt\": \"2021-01-19T15:26:48.75578Z\", \"duration\": \"0:00:32\", \"iteration\": \"33\", \"goal\": \"accuracy_max\", \"run_name\": \"MaxAbsScaler, LightGBM\", \"run_properties\": \"copy=True\", \"primary_metric\": 0.78444444, \"best_metric\": 0.85458937}, {\"run_id\": \"AutoML_3fa58aab-ed3e-4b9c-9da8-ce8090e48a0b_34\", \"run_number\": 37, \"metric\": null, \"status\": \"Completed\", \"run_type\": null, \"training_percent\": \"100\", \"start_time\": \"2021-01-19T15:27:22.957112Z\", \"end_time\": \"2021-01-19T15:27:52.470474Z\", \"created_time\": \"2021-01-19T15:27:22.792641Z\", \"created_time_dt\": \"2021-01-19T15:27:22.792641Z\", \"duration\": \"0:00:29\", \"iteration\": \"34\", \"goal\": \"accuracy_max\", \"run_name\": \"StandardScalerWrapper, ExtremeRandomTrees\", \"run_properties\": \"<azureml.automl.runtime.shared.model_wrappers.StandardScalerWrapper object at 0x7fe8a81d9fd0\", \"primary_metric\": 0.83246377, \"best_metric\": 0.85458937}, {\"run_id\": \"AutoML_3fa58aab-ed3e-4b9c-9da8-ce8090e48a0b_35\", \"run_number\": 38, \"metric\": null, \"status\": \"Completed\", \"run_type\": null, \"training_percent\": \"100\", \"start_time\": \"2021-01-19T15:27:54.790418Z\", \"end_time\": \"2021-01-19T15:28:22.884477Z\", \"created_time\": \"2021-01-19T15:27:54.631043Z\", \"created_time_dt\": \"2021-01-19T15:27:54.631043Z\", \"duration\": \"0:00:28\", \"iteration\": \"35\", \"goal\": \"accuracy_max\", \"run_name\": \"StandardScalerWrapper, LogisticRegression\", \"run_properties\": \"<azureml.automl.runtime.shared.model_wrappers.StandardScalerWrapper object at 0x7fe8ae299b00\", \"primary_metric\": 0.65169082, \"best_metric\": 0.85458937}, {\"run_id\": \"AutoML_3fa58aab-ed3e-4b9c-9da8-ce8090e48a0b_36\", \"run_number\": 39, \"metric\": null, \"status\": \"Completed\", \"run_type\": null, \"training_percent\": \"100\", \"start_time\": \"2021-01-19T15:28:24.173562Z\", \"end_time\": \"2021-01-19T15:28:52.122186Z\", \"created_time\": \"2021-01-19T15:28:24.007468Z\", \"created_time_dt\": \"2021-01-19T15:28:24.007468Z\", \"duration\": \"0:00:28\", \"iteration\": \"36\", \"goal\": \"accuracy_max\", \"run_name\": \"StandardScalerWrapper, XGBoostClassifier\", \"run_properties\": \"<azureml.automl.runtime.shared.model_wrappers.StandardScalerWrapper object at 0x7fe8a061bc50\", \"primary_metric\": 0.78850242, \"best_metric\": 0.85458937}, {\"run_id\": \"AutoML_3fa58aab-ed3e-4b9c-9da8-ce8090e48a0b_37\", \"run_number\": 40, \"metric\": null, \"status\": \"Completed\", \"run_type\": null, \"training_percent\": \"100\", \"start_time\": \"2021-01-19T15:28:53.530474Z\", \"end_time\": \"2021-01-19T15:29:21.430594Z\", \"created_time\": \"2021-01-19T15:28:53.36208Z\", \"created_time_dt\": \"2021-01-19T15:28:53.36208Z\", \"duration\": \"0:00:28\", \"iteration\": \"37\", \"goal\": \"accuracy_max\", \"run_name\": \"StandardScalerWrapper, XGBoostClassifier\", \"run_properties\": \"<azureml.automl.runtime.shared.model_wrappers.StandardScalerWrapper object at 0x7fe9b8adfe10\", \"primary_metric\": 0.8236715, \"best_metric\": 0.85458937}, {\"run_id\": \"AutoML_3fa58aab-ed3e-4b9c-9da8-ce8090e48a0b_38\", \"run_number\": 41, \"metric\": null, \"status\": \"Completed\", \"run_type\": null, \"training_percent\": \"100\", \"start_time\": \"2021-01-19T15:29:22.746112Z\", \"end_time\": \"2021-01-19T15:29:52.084474Z\", \"created_time\": \"2021-01-19T15:29:22.585529Z\", \"created_time_dt\": \"2021-01-19T15:29:22.585529Z\", \"duration\": \"0:00:29\", \"iteration\": \"38\", \"goal\": \"accuracy_max\", \"run_name\": \"StandardScalerWrapper, RandomForest\", \"run_properties\": \"<azureml.automl.runtime.shared.model_wrappers.StandardScalerWrapper object at 0x7fe9b8b84cc0\", \"primary_metric\": 0.7973913, \"best_metric\": 0.85458937}, {\"run_id\": \"AutoML_3fa58aab-ed3e-4b9c-9da8-ce8090e48a0b_39\", \"run_number\": 42, \"metric\": null, \"status\": \"Completed\", \"run_type\": null, \"training_percent\": \"100\", \"start_time\": \"2021-01-19T15:29:53.398438Z\", \"end_time\": \"2021-01-19T15:30:24.485459Z\", \"created_time\": \"2021-01-19T15:29:53.251863Z\", \"created_time_dt\": \"2021-01-19T15:29:53.251863Z\", \"duration\": \"0:00:31\", \"iteration\": \"39\", \"goal\": \"accuracy_max\", \"run_name\": \"StandardScalerWrapper, RandomForest\", \"run_properties\": \"<azureml.automl.runtime.shared.model_wrappers.StandardScalerWrapper object at 0x7fe8a061bf98\", \"primary_metric\": 0.81487923, \"best_metric\": 0.85458937}, {\"run_id\": \"AutoML_3fa58aab-ed3e-4b9c-9da8-ce8090e48a0b_40\", \"run_number\": 43, \"metric\": null, \"status\": \"Completed\", \"run_type\": null, \"training_percent\": \"100\", \"start_time\": \"2021-01-19T15:30:26.607655Z\", \"end_time\": \"2021-01-19T15:30:55.210504Z\", \"created_time\": \"2021-01-19T15:30:26.430823Z\", \"created_time_dt\": \"2021-01-19T15:30:26.430823Z\", \"duration\": \"0:00:28\", \"iteration\": \"40\", \"goal\": \"accuracy_max\", \"run_name\": \"MaxAbsScaler, LogisticRegression\", \"run_properties\": \"copy=True\", \"primary_metric\": 0.84589372, \"best_metric\": 0.85458937}, {\"run_id\": \"AutoML_3fa58aab-ed3e-4b9c-9da8-ce8090e48a0b_41\", \"run_number\": 44, \"metric\": null, \"status\": \"Completed\", \"run_type\": null, \"training_percent\": \"100\", \"start_time\": \"2021-01-19T15:30:55.5758Z\", \"end_time\": \"2021-01-19T15:31:31.672982Z\", \"created_time\": \"2021-01-19T15:30:55.421584Z\", \"created_time_dt\": \"2021-01-19T15:30:55.421584Z\", \"duration\": \"0:00:36\", \"iteration\": \"41\", \"goal\": \"accuracy_max\", \"run_name\": \"VotingEnsemble\", \"run_properties\": \"classification_labels=None,\\n                              estimators=[('9',\\n                                           Pipeline(memory=None,\\n                                                    steps=[('maxabsscaler',\\n                                                            MaxAbsScaler(copy=True\", \"primary_metric\": 0.87217391, \"best_metric\": 0.87217391}, {\"run_id\": \"AutoML_3fa58aab-ed3e-4b9c-9da8-ce8090e48a0b_42\", \"run_number\": 45, \"metric\": null, \"status\": \"Completed\", \"run_type\": null, \"training_percent\": \"100\", \"start_time\": \"2021-01-19T15:31:32.036867Z\", \"end_time\": \"2021-01-19T15:32:13.85232Z\", \"created_time\": \"2021-01-19T15:31:31.87324Z\", \"created_time_dt\": \"2021-01-19T15:31:31.87324Z\", \"duration\": \"0:00:41\", \"iteration\": \"42\", \"goal\": \"accuracy_max\", \"run_name\": \"StackEnsemble\", \"run_properties\": \"base_learners=[('9',\\n                                        Pipeline(memory=None,\\n                                                 steps=[('maxabsscaler',\\n                                                         MaxAbsScaler(copy=True\", \"primary_metric\": 0.85024155, \"best_metric\": 0.87217391}], \"children_metrics\": {\"categories\": [0], \"series\": {\"recall_score_micro\": [{\"categories\": [\"0\", \"1\", \"2\", \"3\", \"4\", \"5\", \"6\", \"7\", \"8\", \"9\", \"10\", \"11\", \"12\", \"13\", \"14\", \"15\", \"16\", \"17\", \"18\", \"19\", \"20\", \"21\", \"22\", \"23\", \"24\", \"25\", \"26\", \"27\", \"28\", \"29\", \"30\", \"31\", \"32\", \"33\", \"34\", \"35\", \"36\", \"37\", \"38\", \"39\", \"40\", \"41\", \"42\"], \"mode\": \"markers\", \"name\": \"recall_score_micro\", \"stepped\": false, \"type\": \"scatter\", \"data\": [0.7927536231884058, 0.788599033816425, 0.8105314009661836, 0.8059903381642511, 0.8014492753623188, 0.8017391304347825, 0.8018357487922705, 0.8150724637681158, 0.8105314009661836, 0.8545893719806763, 0.814975845410628, 0.8107246376811593, 0.8414492753623188, 0.8458937198067634, 0.8105314009661836, 0.8194202898550724, 0.7841545893719806, 0.8369082125603864, 0.7799999999999999, 0.788792270531401, 0.8193236714975844, 0.8105314009661836, 0.8281159420289855, 0.8281159420289853, 0.8015458937198068, 0.6827053140096618, 0.8104347826086956, 0.7009661835748793, 0.8059903381642511, 0.8104347826086956, 0.5463768115942028, 0.8279227053140097, 0.8326570048309179, 0.7844444444444443, 0.8324637681159421, 0.6516908212560386, 0.7885024154589372, 0.823671497584541, 0.797391304347826, 0.81487922705314, 0.8458937198067634, 0.8721739130434782, 0.8502415458937197]}, {\"categories\": [\"0\", \"1\", \"2\", \"3\", \"4\", \"5\", \"6\", \"7\", \"8\", \"9\", \"10\", \"11\", \"12\", \"13\", \"14\", \"15\", \"16\", \"17\", \"18\", \"19\", \"20\", \"21\", \"22\", \"23\", \"24\", \"25\", \"26\", \"27\", \"28\", \"29\", \"30\", \"31\", \"32\", \"33\", \"34\", \"35\", \"36\", \"37\", \"38\", \"39\", \"40\", \"41\", \"42\"], \"mode\": \"lines\", \"name\": \"recall_score_micro_max\", \"stepped\": true, \"type\": \"scatter\", \"data\": [0.7927536231884058, 0.7927536231884058, 0.8105314009661836, 0.8105314009661836, 0.8105314009661836, 0.8105314009661836, 0.8105314009661836, 0.8150724637681158, 0.8150724637681158, 0.8545893719806763, 0.8545893719806763, 0.8545893719806763, 0.8545893719806763, 0.8545893719806763, 0.8545893719806763, 0.8545893719806763, 0.8545893719806763, 0.8545893719806763, 0.8545893719806763, 0.8545893719806763, 0.8545893719806763, 0.8545893719806763, 0.8545893719806763, 0.8545893719806763, 0.8545893719806763, 0.8545893719806763, 0.8545893719806763, 0.8545893719806763, 0.8545893719806763, 0.8545893719806763, 0.8545893719806763, 0.8545893719806763, 0.8545893719806763, 0.8545893719806763, 0.8545893719806763, 0.8545893719806763, 0.8545893719806763, 0.8545893719806763, 0.8545893719806763, 0.8545893719806763, 0.8545893719806763, 0.8721739130434782, 0.8721739130434782]}], \"average_precision_score_micro\": [{\"categories\": [\"0\", \"1\", \"2\", \"3\", \"4\", \"5\", \"6\", \"7\", \"8\", \"9\", \"10\", \"11\", \"12\", \"13\", \"14\", \"15\", \"16\", \"17\", \"18\", \"19\", \"20\", \"21\", \"22\", \"23\", \"24\", \"25\", \"26\", \"27\", \"28\", \"29\", \"30\", \"31\", \"32\", \"33\", \"34\", \"35\", \"36\", \"37\", \"38\", \"39\", \"40\", \"41\", \"42\"], \"mode\": \"markers\", \"name\": \"average_precision_score_micro\", \"stepped\": false, \"type\": \"scatter\", \"data\": [0.87664697345577, 0.8788879189602652, 0.8935015533927864, 0.8962687330647618, 0.8755725983335081, 0.8875372770111369, 0.8742925005419628, 0.9084039299076425, 0.9035990896569878, 0.9131676954414016, 0.8734361018523813, 0.9006722670036487, 0.9126691197839506, 0.9036260390192206, 0.89208998563241, 0.8896624025152976, 0.8499935789277118, 0.905217932298998, 0.8600411397358686, 0.8761203108054632, 0.8925097713205086, 0.9043910957055609, 0.9067971587504665, 0.896885440170324, 0.8917984608413303, 0.7421155766805528, 0.8955891699558147, 0.7224195281817332, 0.8830624795310348, 0.8938363721820147, 0.5292659338607668, 0.8839806449822316, 0.9003234804572646, 0.8564778423656574, 0.8953713705276017, 0.7229292639648145, 0.8729002960787063, 0.9019089025774303, 0.8981722467234687, 0.9074163619526884, 0.9035922417228832, 0.9115849266751427, 0.9110418951357728]}, {\"categories\": [\"0\", \"1\", \"2\", \"3\", \"4\", \"5\", \"6\", \"7\", \"8\", \"9\", \"10\", \"11\", \"12\", \"13\", \"14\", \"15\", \"16\", \"17\", \"18\", \"19\", \"20\", \"21\", \"22\", \"23\", \"24\", \"25\", \"26\", \"27\", \"28\", \"29\", \"30\", \"31\", \"32\", \"33\", \"34\", \"35\", \"36\", \"37\", \"38\", \"39\", \"40\", \"41\", \"42\"], \"mode\": \"lines\", \"name\": \"average_precision_score_micro_max\", \"stepped\": true, \"type\": \"scatter\", \"data\": [0.87664697345577, 0.8788879189602652, 0.8935015533927864, 0.8962687330647618, 0.8962687330647618, 0.8962687330647618, 0.8962687330647618, 0.9084039299076425, 0.9084039299076425, 0.9131676954414016, 0.9131676954414016, 0.9131676954414016, 0.9131676954414016, 0.9131676954414016, 0.9131676954414016, 0.9131676954414016, 0.9131676954414016, 0.9131676954414016, 0.9131676954414016, 0.9131676954414016, 0.9131676954414016, 0.9131676954414016, 0.9131676954414016, 0.9131676954414016, 0.9131676954414016, 0.9131676954414016, 0.9131676954414016, 0.9131676954414016, 0.9131676954414016, 0.9131676954414016, 0.9131676954414016, 0.9131676954414016, 0.9131676954414016, 0.9131676954414016, 0.9131676954414016, 0.9131676954414016, 0.9131676954414016, 0.9131676954414016, 0.9131676954414016, 0.9131676954414016, 0.9131676954414016, 0.9131676954414016, 0.9131676954414016]}], \"precision_score_macro\": [{\"categories\": [\"0\", \"1\", \"2\", \"3\", \"4\", \"5\", \"6\", \"7\", \"8\", \"9\", \"10\", \"11\", \"12\", \"13\", \"14\", \"15\", \"16\", \"17\", \"18\", \"19\", \"20\", \"21\", \"22\", \"23\", \"24\", \"25\", \"26\", \"27\", \"28\", \"29\", \"30\", \"31\", \"32\", \"33\", \"34\", \"35\", \"36\", \"37\", \"38\", \"39\", \"40\", \"41\", \"42\"], \"mode\": \"markers\", \"name\": \"precision_score_macro\", \"stepped\": false, \"type\": \"scatter\", \"data\": [0.793757354489099, 0.7954049972215607, 0.8144743295507672, 0.8054130940223885, 0.8029003524655698, 0.7977842059900885, 0.8018761698111543, 0.8190057632248301, 0.8144395363800735, 0.8541957911842823, 0.813484077841663, 0.8164969896004377, 0.8419478182636077, 0.8470041473194309, 0.8085825006391634, 0.8216820623725993, 0.7866390714862701, 0.8336514671446021, 0.7821876116400734, 0.7870350486733544, 0.8217887729804566, 0.8098901175102547, 0.8247053590531852, 0.8269851444851446, 0.8062209053870953, 0.6845662854406488, 0.8113602543540624, 0.7012591756070016, 0.8044095217934227, 0.8103451373010463, 0.2731884057971014, 0.8261791872844503, 0.8360213032581454, 0.7830392534229942, 0.830383704988968, 0.6589965304303539, 0.7866872737399053, 0.8223839513313196, 0.7960969215969216, 0.8133997491468214, 0.8470041473194309, 0.8719303185634455, 0.8501765691555054]}, {\"categories\": [\"0\", \"1\", \"2\", \"3\", \"4\", \"5\", \"6\", \"7\", \"8\", \"9\", \"10\", \"11\", \"12\", \"13\", \"14\", \"15\", \"16\", \"17\", \"18\", \"19\", \"20\", \"21\", \"22\", \"23\", \"24\", \"25\", \"26\", \"27\", \"28\", \"29\", \"30\", \"31\", \"32\", \"33\", \"34\", \"35\", \"36\", \"37\", \"38\", \"39\", \"40\", \"41\", \"42\"], \"mode\": \"lines\", \"name\": \"precision_score_macro_max\", \"stepped\": true, \"type\": \"scatter\", \"data\": [0.793757354489099, 0.7954049972215607, 0.8144743295507672, 0.8144743295507672, 0.8144743295507672, 0.8144743295507672, 0.8144743295507672, 0.8190057632248301, 0.8190057632248301, 0.8541957911842823, 0.8541957911842823, 0.8541957911842823, 0.8541957911842823, 0.8541957911842823, 0.8541957911842823, 0.8541957911842823, 0.8541957911842823, 0.8541957911842823, 0.8541957911842823, 0.8541957911842823, 0.8541957911842823, 0.8541957911842823, 0.8541957911842823, 0.8541957911842823, 0.8541957911842823, 0.8541957911842823, 0.8541957911842823, 0.8541957911842823, 0.8541957911842823, 0.8541957911842823, 0.8541957911842823, 0.8541957911842823, 0.8541957911842823, 0.8541957911842823, 0.8541957911842823, 0.8541957911842823, 0.8541957911842823, 0.8541957911842823, 0.8541957911842823, 0.8541957911842823, 0.8541957911842823, 0.8719303185634455, 0.8719303185634455]}], \"norm_macro_recall\": [{\"categories\": [\"0\", \"1\", \"2\", \"3\", \"4\", \"5\", \"6\", \"7\", \"8\", \"9\", \"10\", \"11\", \"12\", \"13\", \"14\", \"15\", \"16\", \"17\", \"18\", \"19\", \"20\", \"21\", \"22\", \"23\", \"24\", \"25\", \"26\", \"27\", \"28\", \"29\", \"30\", \"31\", \"32\", \"33\", \"34\", \"35\", \"36\", \"37\", \"38\", \"39\", \"40\", \"41\", \"42\"], \"mode\": \"markers\", \"name\": \"norm_macro_recall\", \"stepped\": false, \"type\": \"scatter\", \"data\": [0.5788014304536043, 0.5762156973461321, 0.6299932241671372, 0.6142975719932242, 0.6134317711274233, 0.5992269904009034, 0.6027901373988331, 0.621446828533785, 0.6114364765669112, 0.7049966120835686, 0.6212143798230756, 0.6147801618671184, 0.6806676077545644, 0.6854814605684172, 0.6183178994918125, 0.6329286655373612, 0.5538533785055525, 0.6767105213626954, 0.5598447204968944, 0.5668750235271973, 0.6305706757011104, 0.6221274233013363, 0.6565616412572934, 0.6531624317711274, 0.5952789384528516, 0.34919800489365704, 0.620746847355543, 0.4116102013928101, 0.6034278185582533, 0.614407491059665, 0.0, 0.6550135516657256, 0.6621234707321665, 0.5697927724449463, 0.6641044607566347, 0.27973348390739694, 0.5738836815358554, 0.6432763034067382, 0.5962356484095614, 0.6234607566346697, 0.6854814605684172, 0.742420854507811, 0.702868059476755]}, {\"categories\": [\"0\", \"1\", \"2\", \"3\", \"4\", \"5\", \"6\", \"7\", \"8\", \"9\", \"10\", \"11\", \"12\", \"13\", \"14\", \"15\", \"16\", \"17\", \"18\", \"19\", \"20\", \"21\", \"22\", \"23\", \"24\", \"25\", \"26\", \"27\", \"28\", \"29\", \"30\", \"31\", \"32\", \"33\", \"34\", \"35\", \"36\", \"37\", \"38\", \"39\", \"40\", \"41\", \"42\"], \"mode\": \"lines\", \"name\": \"norm_macro_recall_max\", \"stepped\": true, \"type\": \"scatter\", \"data\": [0.5788014304536043, 0.5788014304536043, 0.6299932241671372, 0.6299932241671372, 0.6299932241671372, 0.6299932241671372, 0.6299932241671372, 0.6299932241671372, 0.6299932241671372, 0.7049966120835686, 0.7049966120835686, 0.7049966120835686, 0.7049966120835686, 0.7049966120835686, 0.7049966120835686, 0.7049966120835686, 0.7049966120835686, 0.7049966120835686, 0.7049966120835686, 0.7049966120835686, 0.7049966120835686, 0.7049966120835686, 0.7049966120835686, 0.7049966120835686, 0.7049966120835686, 0.7049966120835686, 0.7049966120835686, 0.7049966120835686, 0.7049966120835686, 0.7049966120835686, 0.7049966120835686, 0.7049966120835686, 0.7049966120835686, 0.7049966120835686, 0.7049966120835686, 0.7049966120835686, 0.7049966120835686, 0.7049966120835686, 0.7049966120835686, 0.7049966120835686, 0.7049966120835686, 0.742420854507811, 0.742420854507811]}], \"average_precision_score_macro\": [{\"categories\": [\"0\", \"1\", \"2\", \"3\", \"4\", \"5\", \"6\", \"7\", \"8\", \"9\", \"10\", \"11\", \"12\", \"13\", \"14\", \"15\", \"16\", \"17\", \"18\", \"19\", \"20\", \"21\", \"22\", \"23\", \"24\", \"25\", \"26\", \"27\", \"28\", \"29\", \"30\", \"31\", \"32\", \"33\", \"34\", \"35\", \"36\", \"37\", \"38\", \"39\", \"40\", \"41\", \"42\"], \"mode\": \"markers\", \"name\": \"average_precision_score_macro\", \"stepped\": false, \"type\": \"scatter\", \"data\": [0.8752712263526895, 0.8853373764398024, 0.8954743828098698, 0.8962073633586993, 0.8792729611675837, 0.8857074113175859, 0.8801087000887767, 0.9142178171049299, 0.9073807643745082, 0.9144450147807233, 0.8802960010938639, 0.9040682540187553, 0.9128411509015635, 0.9074721685320715, 0.8966342380961885, 0.8904080643256265, 0.8555027494497246, 0.9032935881606274, 0.8716751197090892, 0.8745467162927522, 0.9017240097828425, 0.9037677369423782, 0.9071317852886379, 0.8983261014679007, 0.8943571242486325, 0.7405383476994928, 0.8971349242403381, 0.71930651292829, 0.8899337786959286, 0.8946328608320192, 0.5, 0.8868379598076643, 0.9007377304281402, 0.8634590031021933, 0.9037029051537331, 0.7294369892142839, 0.878018471443584, 0.8997360247119189, 0.8968042211801069, 0.9085336991769166, 0.9073735277404958, 0.9161280664517824, 0.9176168461402856]}, {\"categories\": [\"0\", \"1\", \"2\", \"3\", \"4\", \"5\", \"6\", \"7\", \"8\", \"9\", \"10\", \"11\", \"12\", \"13\", \"14\", \"15\", \"16\", \"17\", \"18\", \"19\", \"20\", \"21\", \"22\", \"23\", \"24\", \"25\", \"26\", \"27\", \"28\", \"29\", \"30\", \"31\", \"32\", \"33\", \"34\", \"35\", \"36\", \"37\", \"38\", \"39\", \"40\", \"41\", \"42\"], \"mode\": \"lines\", \"name\": \"average_precision_score_macro_max\", \"stepped\": true, \"type\": \"scatter\", \"data\": [0.8752712263526895, 0.8853373764398024, 0.8954743828098698, 0.8962073633586993, 0.8962073633586993, 0.8962073633586993, 0.8962073633586993, 0.9142178171049299, 0.9142178171049299, 0.9144450147807233, 0.9144450147807233, 0.9144450147807233, 0.9144450147807233, 0.9144450147807233, 0.9144450147807233, 0.9144450147807233, 0.9144450147807233, 0.9144450147807233, 0.9144450147807233, 0.9144450147807233, 0.9144450147807233, 0.9144450147807233, 0.9144450147807233, 0.9144450147807233, 0.9144450147807233, 0.9144450147807233, 0.9144450147807233, 0.9144450147807233, 0.9144450147807233, 0.9144450147807233, 0.9144450147807233, 0.9144450147807233, 0.9144450147807233, 0.9144450147807233, 0.9144450147807233, 0.9144450147807233, 0.9144450147807233, 0.9144450147807233, 0.9144450147807233, 0.9144450147807233, 0.9144450147807233, 0.9161280664517824, 0.9176168461402856]}], \"f1_score_weighted\": [{\"categories\": [\"0\", \"1\", \"2\", \"3\", \"4\", \"5\", \"6\", \"7\", \"8\", \"9\", \"10\", \"11\", \"12\", \"13\", \"14\", \"15\", \"16\", \"17\", \"18\", \"19\", \"20\", \"21\", \"22\", \"23\", \"24\", \"25\", \"26\", \"27\", \"28\", \"29\", \"30\", \"31\", \"32\", \"33\", \"34\", \"35\", \"36\", \"37\", \"38\", \"39\", \"40\", \"41\", \"42\"], \"mode\": \"markers\", \"name\": \"f1_score_weighted\", \"stepped\": false, \"type\": \"scatter\", \"data\": [0.7913318398024759, 0.7864549649427163, 0.8099555762236921, 0.805688011925081, 0.8018529355390056, 0.8018665974655439, 0.8018856349284704, 0.8137404028513078, 0.8086760747828586, 0.8543376889993176, 0.8146384280722113, 0.80917401538871, 0.8412418346625916, 0.845057514701456, 0.8104475395342856, 0.8188023631148219, 0.7815597424824405, 0.8375577850183596, 0.778587820135351, 0.7882519393618882, 0.8184548231006932, 0.8105396902214675, 0.8284937559058424, 0.8283576271503849, 0.8004999166440815, 0.6784884372238451, 0.8105482048986019, 0.7023291487732333, 0.8057465458357512, 0.8097264963874513, 0.38812829439386504, 0.8279624455143594, 0.8316985523861888, 0.7838832872761419, 0.8325811028609124, 0.6412862043112955, 0.7883939363409356, 0.8237361273426336, 0.7971633452625713, 0.8146193173254643, 0.845057514701456, 0.8720011862441084, 0.8503522095589402]}, {\"categories\": [\"0\", \"1\", \"2\", \"3\", \"4\", \"5\", \"6\", \"7\", \"8\", \"9\", \"10\", \"11\", \"12\", \"13\", \"14\", \"15\", \"16\", \"17\", \"18\", \"19\", \"20\", \"21\", \"22\", \"23\", \"24\", \"25\", \"26\", \"27\", \"28\", \"29\", \"30\", \"31\", \"32\", \"33\", \"34\", \"35\", \"36\", \"37\", \"38\", \"39\", \"40\", \"41\", \"42\"], \"mode\": \"lines\", \"name\": \"f1_score_weighted_max\", \"stepped\": true, \"type\": \"scatter\", \"data\": [0.7913318398024759, 0.7913318398024759, 0.8099555762236921, 0.8099555762236921, 0.8099555762236921, 0.8099555762236921, 0.8099555762236921, 0.8137404028513078, 0.8137404028513078, 0.8543376889993176, 0.8543376889993176, 0.8543376889993176, 0.8543376889993176, 0.8543376889993176, 0.8543376889993176, 0.8543376889993176, 0.8543376889993176, 0.8543376889993176, 0.8543376889993176, 0.8543376889993176, 0.8543376889993176, 0.8543376889993176, 0.8543376889993176, 0.8543376889993176, 0.8543376889993176, 0.8543376889993176, 0.8543376889993176, 0.8543376889993176, 0.8543376889993176, 0.8543376889993176, 0.8543376889993176, 0.8543376889993176, 0.8543376889993176, 0.8543376889993176, 0.8543376889993176, 0.8543376889993176, 0.8543376889993176, 0.8543376889993176, 0.8543376889993176, 0.8543376889993176, 0.8543376889993176, 0.8720011862441084, 0.8720011862441084]}], \"precision_score_micro\": [{\"categories\": [\"0\", \"1\", \"2\", \"3\", \"4\", \"5\", \"6\", \"7\", \"8\", \"9\", \"10\", \"11\", \"12\", \"13\", \"14\", \"15\", \"16\", \"17\", \"18\", \"19\", \"20\", \"21\", \"22\", \"23\", \"24\", \"25\", \"26\", \"27\", \"28\", \"29\", \"30\", \"31\", \"32\", \"33\", \"34\", \"35\", \"36\", \"37\", \"38\", \"39\", \"40\", \"41\", \"42\"], \"mode\": \"markers\", \"name\": \"precision_score_micro\", \"stepped\": false, \"type\": \"scatter\", \"data\": [0.7927536231884058, 0.788599033816425, 0.8105314009661836, 0.8059903381642511, 0.8014492753623188, 0.8017391304347825, 0.8018357487922705, 0.8150724637681158, 0.8105314009661836, 0.8545893719806763, 0.814975845410628, 0.8107246376811593, 0.8414492753623188, 0.8458937198067634, 0.8105314009661836, 0.8194202898550724, 0.7841545893719806, 0.8369082125603864, 0.7799999999999999, 0.788792270531401, 0.8193236714975844, 0.8105314009661836, 0.8281159420289855, 0.8281159420289853, 0.8015458937198068, 0.6827053140096618, 0.8104347826086956, 0.7009661835748793, 0.8059903381642511, 0.8104347826086956, 0.5463768115942028, 0.8279227053140097, 0.8326570048309179, 0.7844444444444443, 0.8324637681159421, 0.6516908212560386, 0.7885024154589372, 0.823671497584541, 0.797391304347826, 0.81487922705314, 0.8458937198067634, 0.8721739130434782, 0.8502415458937197]}, {\"categories\": [\"0\", \"1\", \"2\", \"3\", \"4\", \"5\", \"6\", \"7\", \"8\", \"9\", \"10\", \"11\", \"12\", \"13\", \"14\", \"15\", \"16\", \"17\", \"18\", \"19\", \"20\", \"21\", \"22\", \"23\", \"24\", \"25\", \"26\", \"27\", \"28\", \"29\", \"30\", \"31\", \"32\", \"33\", \"34\", \"35\", \"36\", \"37\", \"38\", \"39\", \"40\", \"41\", \"42\"], \"mode\": \"lines\", \"name\": \"precision_score_micro_max\", \"stepped\": true, \"type\": \"scatter\", \"data\": [0.7927536231884058, 0.7927536231884058, 0.8105314009661836, 0.8105314009661836, 0.8105314009661836, 0.8105314009661836, 0.8105314009661836, 0.8150724637681158, 0.8150724637681158, 0.8545893719806763, 0.8545893719806763, 0.8545893719806763, 0.8545893719806763, 0.8545893719806763, 0.8545893719806763, 0.8545893719806763, 0.8545893719806763, 0.8545893719806763, 0.8545893719806763, 0.8545893719806763, 0.8545893719806763, 0.8545893719806763, 0.8545893719806763, 0.8545893719806763, 0.8545893719806763, 0.8545893719806763, 0.8545893719806763, 0.8545893719806763, 0.8545893719806763, 0.8545893719806763, 0.8545893719806763, 0.8545893719806763, 0.8545893719806763, 0.8545893719806763, 0.8545893719806763, 0.8545893719806763, 0.8545893719806763, 0.8545893719806763, 0.8545893719806763, 0.8545893719806763, 0.8545893719806763, 0.8721739130434782, 0.8721739130434782]}], \"f1_score_micro\": [{\"categories\": [\"0\", \"1\", \"2\", \"3\", \"4\", \"5\", \"6\", \"7\", \"8\", \"9\", \"10\", \"11\", \"12\", \"13\", \"14\", \"15\", \"16\", \"17\", \"18\", \"19\", \"20\", \"21\", \"22\", \"23\", \"24\", \"25\", \"26\", \"27\", \"28\", \"29\", \"30\", \"31\", \"32\", \"33\", \"34\", \"35\", \"36\", \"37\", \"38\", \"39\", \"40\", \"41\", \"42\"], \"mode\": \"markers\", \"name\": \"f1_score_micro\", \"stepped\": false, \"type\": \"scatter\", \"data\": [0.7927536231884057, 0.788599033816425, 0.8105314009661836, 0.8059903381642511, 0.8014492753623189, 0.8017391304347825, 0.8018357487922705, 0.8150724637681158, 0.8105314009661834, 0.8545893719806763, 0.814975845410628, 0.8107246376811595, 0.8414492753623188, 0.8458937198067634, 0.8105314009661837, 0.8194202898550724, 0.7841545893719807, 0.8369082125603864, 0.78, 0.788792270531401, 0.8193236714975844, 0.8105314009661836, 0.8281159420289855, 0.8281159420289856, 0.8015458937198068, 0.6827053140096618, 0.8104347826086956, 0.7009661835748793, 0.8059903381642511, 0.8104347826086956, 0.5463768115942028, 0.8279227053140097, 0.8326570048309179, 0.7844444444444446, 0.8324637681159421, 0.6516908212560386, 0.7885024154589373, 0.8236714975845411, 0.797391304347826, 0.81487922705314, 0.8458937198067634, 0.8721739130434782, 0.8502415458937197]}, {\"categories\": [\"0\", \"1\", \"2\", \"3\", \"4\", \"5\", \"6\", \"7\", \"8\", \"9\", \"10\", \"11\", \"12\", \"13\", \"14\", \"15\", \"16\", \"17\", \"18\", \"19\", \"20\", \"21\", \"22\", \"23\", \"24\", \"25\", \"26\", \"27\", \"28\", \"29\", \"30\", \"31\", \"32\", \"33\", \"34\", \"35\", \"36\", \"37\", \"38\", \"39\", \"40\", \"41\", \"42\"], \"mode\": \"lines\", \"name\": \"f1_score_micro_max\", \"stepped\": true, \"type\": \"scatter\", \"data\": [0.7927536231884057, 0.7927536231884057, 0.8105314009661836, 0.8105314009661836, 0.8105314009661836, 0.8105314009661836, 0.8105314009661836, 0.8150724637681158, 0.8150724637681158, 0.8545893719806763, 0.8545893719806763, 0.8545893719806763, 0.8545893719806763, 0.8545893719806763, 0.8545893719806763, 0.8545893719806763, 0.8545893719806763, 0.8545893719806763, 0.8545893719806763, 0.8545893719806763, 0.8545893719806763, 0.8545893719806763, 0.8545893719806763, 0.8545893719806763, 0.8545893719806763, 0.8545893719806763, 0.8545893719806763, 0.8545893719806763, 0.8545893719806763, 0.8545893719806763, 0.8545893719806763, 0.8545893719806763, 0.8545893719806763, 0.8545893719806763, 0.8545893719806763, 0.8545893719806763, 0.8545893719806763, 0.8545893719806763, 0.8545893719806763, 0.8545893719806763, 0.8545893719806763, 0.8721739130434782, 0.8721739130434782]}], \"weighted_accuracy\": [{\"categories\": [\"0\", \"1\", \"2\", \"3\", \"4\", \"5\", \"6\", \"7\", \"8\", \"9\", \"10\", \"11\", \"12\", \"13\", \"14\", \"15\", \"16\", \"17\", \"18\", \"19\", \"20\", \"21\", \"22\", \"23\", \"24\", \"25\", \"26\", \"27\", \"28\", \"29\", \"30\", \"31\", \"32\", \"33\", \"34\", \"35\", \"36\", \"37\", \"38\", \"39\", \"40\", \"41\", \"42\"], \"mode\": \"markers\", \"name\": \"weighted_accuracy\", \"stepped\": false, \"type\": \"scatter\", \"data\": [0.7958720453240119, 0.7895237716032801, 0.8071801746679691, 0.8052754128830193, 0.7975047840613472, 0.8036374241192743, 0.8024915676136362, 0.8191739266999594, 0.8148854000149169, 0.8564588562314001, 0.8188826313769579, 0.8140331840276553, 0.8427695107501382, 0.8486072805915514, 0.8118968192778107, 0.8219404562055684, 0.7904782671460262, 0.8359008176139069, 0.7805111764112568, 0.7934582183301506, 0.8231147711932449, 0.8104309328069004, 0.828163402336932, 0.8296402039163988, 0.8052094146410657, 0.6900992611991577, 0.8107183900291759, 0.697012955174132, 0.8098055392351785, 0.8134309493825713, 0.5859400332755142, 0.8285504462379173, 0.8344549584209833, 0.7844285006911752, 0.8330865709562023, 0.6623497536264698, 0.790055897985469, 0.8256875759031491, 0.7968970146563994, 0.8177880309932668, 0.8486072805915514, 0.8731381015144187, 0.8494926640890392]}, {\"categories\": [\"0\", \"1\", \"2\", \"3\", \"4\", \"5\", \"6\", \"7\", \"8\", \"9\", \"10\", \"11\", \"12\", \"13\", \"14\", \"15\", \"16\", \"17\", \"18\", \"19\", \"20\", \"21\", \"22\", \"23\", \"24\", \"25\", \"26\", \"27\", \"28\", \"29\", \"30\", \"31\", \"32\", \"33\", \"34\", \"35\", \"36\", \"37\", \"38\", \"39\", \"40\", \"41\", \"42\"], \"mode\": \"lines\", \"name\": \"weighted_accuracy_max\", \"stepped\": true, \"type\": \"scatter\", \"data\": [0.7958720453240119, 0.7958720453240119, 0.8071801746679691, 0.8071801746679691, 0.8071801746679691, 0.8071801746679691, 0.8071801746679691, 0.8191739266999594, 0.8191739266999594, 0.8564588562314001, 0.8564588562314001, 0.8564588562314001, 0.8564588562314001, 0.8564588562314001, 0.8564588562314001, 0.8564588562314001, 0.8564588562314001, 0.8564588562314001, 0.8564588562314001, 0.8564588562314001, 0.8564588562314001, 0.8564588562314001, 0.8564588562314001, 0.8564588562314001, 0.8564588562314001, 0.8564588562314001, 0.8564588562314001, 0.8564588562314001, 0.8564588562314001, 0.8564588562314001, 0.8564588562314001, 0.8564588562314001, 0.8564588562314001, 0.8564588562314001, 0.8564588562314001, 0.8564588562314001, 0.8564588562314001, 0.8564588562314001, 0.8564588562314001, 0.8564588562314001, 0.8564588562314001, 0.8731381015144187, 0.8731381015144187]}], \"recall_score_weighted\": [{\"categories\": [\"0\", \"1\", \"2\", \"3\", \"4\", \"5\", \"6\", \"7\", \"8\", \"9\", \"10\", \"11\", \"12\", \"13\", \"14\", \"15\", \"16\", \"17\", \"18\", \"19\", \"20\", \"21\", \"22\", \"23\", \"24\", \"25\", \"26\", \"27\", \"28\", \"29\", \"30\", \"31\", \"32\", \"33\", \"34\", \"35\", \"36\", \"37\", \"38\", \"39\", \"40\", \"41\", \"42\"], \"mode\": \"markers\", \"name\": \"recall_score_weighted\", \"stepped\": false, \"type\": \"scatter\", \"data\": [0.7927536231884058, 0.788599033816425, 0.8105314009661836, 0.8059903381642511, 0.8014492753623188, 0.8017391304347825, 0.8018357487922705, 0.8150724637681158, 0.8105314009661836, 0.8545893719806763, 0.814975845410628, 0.8107246376811593, 0.8414492753623188, 0.8458937198067634, 0.8105314009661836, 0.8194202898550724, 0.7841545893719806, 0.8369082125603864, 0.7799999999999999, 0.788792270531401, 0.8193236714975844, 0.8105314009661836, 0.8281159420289855, 0.8281159420289853, 0.8015458937198068, 0.6827053140096618, 0.8104347826086956, 0.7009661835748793, 0.8059903381642511, 0.8104347826086956, 0.5463768115942028, 0.8279227053140097, 0.8326570048309179, 0.7844444444444443, 0.8324637681159421, 0.6516908212560386, 0.7885024154589372, 0.823671497584541, 0.797391304347826, 0.81487922705314, 0.8458937198067634, 0.8721739130434782, 0.8502415458937197]}, {\"categories\": [\"0\", \"1\", \"2\", \"3\", \"4\", \"5\", \"6\", \"7\", \"8\", \"9\", \"10\", \"11\", \"12\", \"13\", \"14\", \"15\", \"16\", \"17\", \"18\", \"19\", \"20\", \"21\", \"22\", \"23\", \"24\", \"25\", \"26\", \"27\", \"28\", \"29\", \"30\", \"31\", \"32\", \"33\", \"34\", \"35\", \"36\", \"37\", \"38\", \"39\", \"40\", \"41\", \"42\"], \"mode\": \"lines\", \"name\": \"recall_score_weighted_max\", \"stepped\": true, \"type\": \"scatter\", \"data\": [0.7927536231884058, 0.7927536231884058, 0.8105314009661836, 0.8105314009661836, 0.8105314009661836, 0.8105314009661836, 0.8105314009661836, 0.8150724637681158, 0.8150724637681158, 0.8545893719806763, 0.8545893719806763, 0.8545893719806763, 0.8545893719806763, 0.8545893719806763, 0.8545893719806763, 0.8545893719806763, 0.8545893719806763, 0.8545893719806763, 0.8545893719806763, 0.8545893719806763, 0.8545893719806763, 0.8545893719806763, 0.8545893719806763, 0.8545893719806763, 0.8545893719806763, 0.8545893719806763, 0.8545893719806763, 0.8545893719806763, 0.8545893719806763, 0.8545893719806763, 0.8545893719806763, 0.8545893719806763, 0.8545893719806763, 0.8545893719806763, 0.8545893719806763, 0.8545893719806763, 0.8545893719806763, 0.8545893719806763, 0.8545893719806763, 0.8545893719806763, 0.8545893719806763, 0.8721739130434782, 0.8721739130434782]}], \"AUC_macro\": [{\"categories\": [\"0\", \"1\", \"2\", \"3\", \"4\", \"5\", \"6\", \"7\", \"8\", \"9\", \"10\", \"11\", \"12\", \"13\", \"14\", \"15\", \"16\", \"17\", \"18\", \"19\", \"20\", \"21\", \"22\", \"23\", \"24\", \"25\", \"26\", \"27\", \"28\", \"29\", \"30\", \"31\", \"32\", \"33\", \"34\", \"35\", \"36\", \"37\", \"38\", \"39\", \"40\", \"41\", \"42\"], \"mode\": \"markers\", \"name\": \"AUC_macro\", \"stepped\": false, \"type\": \"scatter\", \"data\": [0.8749109730848861, 0.8834325867369346, 0.8926695212999561, 0.8956982872200264, 0.8771737561954953, 0.8836735679779159, 0.8836902566033, 0.9136113934374805, 0.9076721563460695, 0.9174981178242048, 0.8837563837129053, 0.9001913545391804, 0.9131858021205848, 0.9107356484095614, 0.8976774264382961, 0.8974154589371979, 0.8541044450718364, 0.9041035824079303, 0.8695841489428446, 0.8760044231131188, 0.9047079804253716, 0.9030888073279378, 0.9057380952380953, 0.9008826463391681, 0.8969101261057781, 0.7410734048560135, 0.8995187276491624, 0.7584094516594517, 0.8936702428006775, 0.8966606750737185, 0.5, 0.8847763034067382, 0.9025355731225296, 0.8626836219336219, 0.905783612522743, 0.7256087897609637, 0.8758016029863857, 0.8994233640755379, 0.8945047368090846, 0.9070567162306293, 0.9107191793713533, 0.9166568793525315, 0.9227218144174666]}, {\"categories\": [\"0\", \"1\", \"2\", \"3\", \"4\", \"5\", \"6\", \"7\", \"8\", \"9\", \"10\", \"11\", \"12\", \"13\", \"14\", \"15\", \"16\", \"17\", \"18\", \"19\", \"20\", \"21\", \"22\", \"23\", \"24\", \"25\", \"26\", \"27\", \"28\", \"29\", \"30\", \"31\", \"32\", \"33\", \"34\", \"35\", \"36\", \"37\", \"38\", \"39\", \"40\", \"41\", \"42\"], \"mode\": \"lines\", \"name\": \"AUC_macro_max\", \"stepped\": true, \"type\": \"scatter\", \"data\": [0.8749109730848861, 0.8834325867369346, 0.8926695212999561, 0.8956982872200264, 0.8956982872200264, 0.8956982872200264, 0.8956982872200264, 0.9136113934374805, 0.9136113934374805, 0.9174981178242048, 0.9174981178242048, 0.9174981178242048, 0.9174981178242048, 0.9174981178242048, 0.9174981178242048, 0.9174981178242048, 0.9174981178242048, 0.9174981178242048, 0.9174981178242048, 0.9174981178242048, 0.9174981178242048, 0.9174981178242048, 0.9174981178242048, 0.9174981178242048, 0.9174981178242048, 0.9174981178242048, 0.9174981178242048, 0.9174981178242048, 0.9174981178242048, 0.9174981178242048, 0.9174981178242048, 0.9174981178242048, 0.9174981178242048, 0.9174981178242048, 0.9174981178242048, 0.9174981178242048, 0.9174981178242048, 0.9174981178242048, 0.9174981178242048, 0.9174981178242048, 0.9174981178242048, 0.9174981178242048, 0.9227218144174666]}], \"AUC_weighted\": [{\"categories\": [\"0\", \"1\", \"2\", \"3\", \"4\", \"5\", \"6\", \"7\", \"8\", \"9\", \"10\", \"11\", \"12\", \"13\", \"14\", \"15\", \"16\", \"17\", \"18\", \"19\", \"20\", \"21\", \"22\", \"23\", \"24\", \"25\", \"26\", \"27\", \"28\", \"29\", \"30\", \"31\", \"32\", \"33\", \"34\", \"35\", \"36\", \"37\", \"38\", \"39\", \"40\", \"41\", \"42\"], \"mode\": \"markers\", \"name\": \"AUC_weighted\", \"stepped\": false, \"type\": \"scatter\", \"data\": [0.8749109730848861, 0.8834325867369346, 0.8926695212999561, 0.8956982872200264, 0.8771737561954953, 0.8836735679779159, 0.8836902566033, 0.9136113934374805, 0.9076721563460695, 0.9174981178242048, 0.8837563837129053, 0.9001913545391806, 0.9131858021205848, 0.9107356484095614, 0.8976774264382961, 0.8974154589371981, 0.8541044450718364, 0.9041035824079303, 0.8695841489428446, 0.8760044231131188, 0.9047079804253718, 0.9030888073279378, 0.9057380952380951, 0.9008826463391681, 0.8969101261057784, 0.7410734048560135, 0.8995187276491625, 0.7584094516594517, 0.8936702428006775, 0.8966606750737185, 0.5, 0.8847763034067382, 0.9025355731225296, 0.8626836219336219, 0.905783612522743, 0.7256087897609637, 0.8758016029863857, 0.899423364075538, 0.8945047368090846, 0.9070567162306293, 0.9107191793713533, 0.9166568793525316, 0.9227218144174666]}, {\"categories\": [\"0\", \"1\", \"2\", \"3\", \"4\", \"5\", \"6\", \"7\", \"8\", \"9\", \"10\", \"11\", \"12\", \"13\", \"14\", \"15\", \"16\", \"17\", \"18\", \"19\", \"20\", \"21\", \"22\", \"23\", \"24\", \"25\", \"26\", \"27\", \"28\", \"29\", \"30\", \"31\", \"32\", \"33\", \"34\", \"35\", \"36\", \"37\", \"38\", \"39\", \"40\", \"41\", \"42\"], \"mode\": \"lines\", \"name\": \"AUC_weighted_max\", \"stepped\": true, \"type\": \"scatter\", \"data\": [0.8749109730848861, 0.8834325867369346, 0.8926695212999561, 0.8956982872200264, 0.8956982872200264, 0.8956982872200264, 0.8956982872200264, 0.9136113934374805, 0.9136113934374805, 0.9174981178242048, 0.9174981178242048, 0.9174981178242048, 0.9174981178242048, 0.9174981178242048, 0.9174981178242048, 0.9174981178242048, 0.9174981178242048, 0.9174981178242048, 0.9174981178242048, 0.9174981178242048, 0.9174981178242048, 0.9174981178242048, 0.9174981178242048, 0.9174981178242048, 0.9174981178242048, 0.9174981178242048, 0.9174981178242048, 0.9174981178242048, 0.9174981178242048, 0.9174981178242048, 0.9174981178242048, 0.9174981178242048, 0.9174981178242048, 0.9174981178242048, 0.9174981178242048, 0.9174981178242048, 0.9174981178242048, 0.9174981178242048, 0.9174981178242048, 0.9174981178242048, 0.9174981178242048, 0.9174981178242048, 0.9227218144174666]}], \"average_precision_score_weighted\": [{\"categories\": [\"0\", \"1\", \"2\", \"3\", \"4\", \"5\", \"6\", \"7\", \"8\", \"9\", \"10\", \"11\", \"12\", \"13\", \"14\", \"15\", \"16\", \"17\", \"18\", \"19\", \"20\", \"21\", \"22\", \"23\", \"24\", \"25\", \"26\", \"27\", \"28\", \"29\", \"30\", \"31\", \"32\", \"33\", \"34\", \"35\", \"36\", \"37\", \"38\", \"39\", \"40\", \"41\", \"42\"], \"mode\": \"markers\", \"name\": \"average_precision_score_weighted\", \"stepped\": false, \"type\": \"scatter\", \"data\": [0.8788583842736827, 0.8884470012920065, 0.897803885902538, 0.8989650272717791, 0.8835111082325391, 0.89113739203229, 0.8832309426625921, 0.9163930153067463, 0.9108156151805259, 0.9185046494251333, 0.8846209192949658, 0.9083895308017385, 0.9161361250456299, 0.9123249443917889, 0.89987212583785, 0.8939976642725075, 0.8610591620662176, 0.9067662284748949, 0.8751214629843984, 0.8781116780700806, 0.9055156337623517, 0.9068552886407504, 0.9090067050696551, 0.902496428818339, 0.8981436641725142, 0.7533659689190485, 0.9007371147107548, 0.7277752186656968, 0.8933355896398636, 0.8973511017698593, 0.5121550561273308, 0.8896206627662797, 0.9039272491274557, 0.8681043295033337, 0.9057018321664783, 0.7421797650193243, 0.8801533231966246, 0.9033850081078583, 0.8996966919577429, 0.9108342547046473, 0.9122307418779266, 0.9188559602487649, 0.9206226490736956]}, {\"categories\": [\"0\", \"1\", \"2\", \"3\", \"4\", \"5\", \"6\", \"7\", \"8\", \"9\", \"10\", \"11\", \"12\", \"13\", \"14\", \"15\", \"16\", \"17\", \"18\", \"19\", \"20\", \"21\", \"22\", \"23\", \"24\", \"25\", \"26\", \"27\", \"28\", \"29\", \"30\", \"31\", \"32\", \"33\", \"34\", \"35\", \"36\", \"37\", \"38\", \"39\", \"40\", \"41\", \"42\"], \"mode\": \"lines\", \"name\": \"average_precision_score_weighted_max\", \"stepped\": true, \"type\": \"scatter\", \"data\": [0.8788583842736827, 0.8884470012920065, 0.897803885902538, 0.8989650272717791, 0.8989650272717791, 0.8989650272717791, 0.8989650272717791, 0.9163930153067463, 0.9163930153067463, 0.9185046494251333, 0.9185046494251333, 0.9185046494251333, 0.9185046494251333, 0.9185046494251333, 0.9185046494251333, 0.9185046494251333, 0.9185046494251333, 0.9185046494251333, 0.9185046494251333, 0.9185046494251333, 0.9185046494251333, 0.9185046494251333, 0.9185046494251333, 0.9185046494251333, 0.9185046494251333, 0.9185046494251333, 0.9185046494251333, 0.9185046494251333, 0.9185046494251333, 0.9185046494251333, 0.9185046494251333, 0.9185046494251333, 0.9185046494251333, 0.9185046494251333, 0.9185046494251333, 0.9185046494251333, 0.9185046494251333, 0.9185046494251333, 0.9185046494251333, 0.9185046494251333, 0.9185046494251333, 0.9188559602487649, 0.9206226490736956]}], \"AUC_micro\": [{\"categories\": [\"0\", \"1\", \"2\", \"3\", \"4\", \"5\", \"6\", \"7\", \"8\", \"9\", \"10\", \"11\", \"12\", \"13\", \"14\", \"15\", \"16\", \"17\", \"18\", \"19\", \"20\", \"21\", \"22\", \"23\", \"24\", \"25\", \"26\", \"27\", \"28\", \"29\", \"30\", \"31\", \"32\", \"33\", \"34\", \"35\", \"36\", \"37\", \"38\", \"39\", \"40\", \"41\", \"42\"], \"mode\": \"markers\", \"name\": \"AUC_micro\", \"stepped\": false, \"type\": \"scatter\", \"data\": [0.8735024387967046, 0.8752727951644147, 0.8916795724520992, 0.8955781465145044, 0.8740015869681906, 0.8836073187238908, 0.8821491750099184, 0.9089252958062032, 0.9036779854839085, 0.9159248990641554, 0.8813920044808514, 0.8965307475086932, 0.9122450932343812, 0.9072930056710774, 0.896382039254125, 0.8944619944456115, 0.8480919974795211, 0.9057679759154238, 0.8617365166048216, 0.8754532427827953, 0.8972571588601834, 0.903864874326122, 0.9051201661649045, 0.8996317767042404, 0.8968174753203109, 0.739360638521319, 0.8952223855865948, 0.7597901467945576, 0.8897944876193143, 0.8947487222572288, 0.5463768115942029, 0.8835510280286588, 0.9016931083572546, 0.8576255221825481, 0.9016569814931504, 0.7193749679105697, 0.8755085066162571, 0.9023324231604004, 0.8961388597166795, 0.9056012509043386, 0.9072845107237042, 0.9145676678568929, 0.9178673014539429]}, {\"categories\": [\"0\", \"1\", \"2\", \"3\", \"4\", \"5\", \"6\", \"7\", \"8\", \"9\", \"10\", \"11\", \"12\", \"13\", \"14\", \"15\", \"16\", \"17\", \"18\", \"19\", \"20\", \"21\", \"22\", \"23\", \"24\", \"25\", \"26\", \"27\", \"28\", \"29\", \"30\", \"31\", \"32\", \"33\", \"34\", \"35\", \"36\", \"37\", \"38\", \"39\", \"40\", \"41\", \"42\"], \"mode\": \"lines\", \"name\": \"AUC_micro_max\", \"stepped\": true, \"type\": \"scatter\", \"data\": [0.8735024387967046, 0.8752727951644147, 0.8916795724520992, 0.8955781465145044, 0.8955781465145044, 0.8955781465145044, 0.8955781465145044, 0.9089252958062032, 0.9089252958062032, 0.9159248990641554, 0.9159248990641554, 0.9159248990641554, 0.9159248990641554, 0.9159248990641554, 0.9159248990641554, 0.9159248990641554, 0.9159248990641554, 0.9159248990641554, 0.9159248990641554, 0.9159248990641554, 0.9159248990641554, 0.9159248990641554, 0.9159248990641554, 0.9159248990641554, 0.9159248990641554, 0.9159248990641554, 0.9159248990641554, 0.9159248990641554, 0.9159248990641554, 0.9159248990641554, 0.9159248990641554, 0.9159248990641554, 0.9159248990641554, 0.9159248990641554, 0.9159248990641554, 0.9159248990641554, 0.9159248990641554, 0.9159248990641554, 0.9159248990641554, 0.9159248990641554, 0.9159248990641554, 0.9159248990641554, 0.9178673014539429]}], \"balanced_accuracy\": [{\"categories\": [\"0\", \"1\", \"2\", \"3\", \"4\", \"5\", \"6\", \"7\", \"8\", \"9\", \"10\", \"11\", \"12\", \"13\", \"14\", \"15\", \"16\", \"17\", \"18\", \"19\", \"20\", \"21\", \"22\", \"23\", \"24\", \"25\", \"26\", \"27\", \"28\", \"29\", \"30\", \"31\", \"32\", \"33\", \"34\", \"35\", \"36\", \"37\", \"38\", \"39\", \"40\", \"41\", \"42\"], \"mode\": \"markers\", \"name\": \"balanced_accuracy\", \"stepped\": false, \"type\": \"scatter\", \"data\": [0.7894007152268021, 0.7881078486730662, 0.8149966120835686, 0.8071487859966121, 0.8067158855637115, 0.7996134952004518, 0.8013950686994165, 0.8107234142668925, 0.8057182382834556, 0.8524983060417842, 0.8106071899115378, 0.8073900809335592, 0.8403338038772821, 0.8427407302842086, 0.8091589497459063, 0.8164643327686806, 0.7769266892527762, 0.8383552606813478, 0.7799223602484473, 0.7834375117635987, 0.8152853378505552, 0.8110637116506683, 0.8282808206286468, 0.8265812158855637, 0.7976394692264258, 0.6745990024468285, 0.8103734236777715, 0.705805100696405, 0.8017139092791267, 0.8072037455298325, 0.5, 0.8275067758328628, 0.8310617353660833, 0.7848963862224732, 0.8320522303783173, 0.6398667419536984, 0.7869418407679277, 0.8216381517033691, 0.7981178242047807, 0.8117303783173349, 0.8427407302842086, 0.8712104272539054, 0.8514340297383777]}, {\"categories\": [\"0\", \"1\", \"2\", \"3\", \"4\", \"5\", \"6\", \"7\", \"8\", \"9\", \"10\", \"11\", \"12\", \"13\", \"14\", \"15\", \"16\", \"17\", \"18\", \"19\", \"20\", \"21\", \"22\", \"23\", \"24\", \"25\", \"26\", \"27\", \"28\", \"29\", \"30\", \"31\", \"32\", \"33\", \"34\", \"35\", \"36\", \"37\", \"38\", \"39\", \"40\", \"41\", \"42\"], \"mode\": \"lines\", \"name\": \"balanced_accuracy_max\", \"stepped\": true, \"type\": \"scatter\", \"data\": [0.7894007152268021, 0.7894007152268021, 0.8149966120835686, 0.8149966120835686, 0.8149966120835686, 0.8149966120835686, 0.8149966120835686, 0.8149966120835686, 0.8149966120835686, 0.8524983060417842, 0.8524983060417842, 0.8524983060417842, 0.8524983060417842, 0.8524983060417842, 0.8524983060417842, 0.8524983060417842, 0.8524983060417842, 0.8524983060417842, 0.8524983060417842, 0.8524983060417842, 0.8524983060417842, 0.8524983060417842, 0.8524983060417842, 0.8524983060417842, 0.8524983060417842, 0.8524983060417842, 0.8524983060417842, 0.8524983060417842, 0.8524983060417842, 0.8524983060417842, 0.8524983060417842, 0.8524983060417842, 0.8524983060417842, 0.8524983060417842, 0.8524983060417842, 0.8524983060417842, 0.8524983060417842, 0.8524983060417842, 0.8524983060417842, 0.8524983060417842, 0.8524983060417842, 0.8712104272539054, 0.8712104272539054]}], \"log_loss\": [{\"categories\": [\"0\", \"1\", \"2\", \"3\", \"4\", \"5\", \"6\", \"7\", \"8\", \"9\", \"10\", \"11\", \"12\", \"13\", \"14\", \"15\", \"16\", \"17\", \"18\", \"19\", \"20\", \"21\", \"22\", \"23\", \"24\", \"25\", \"26\", \"27\", \"28\", \"29\", \"30\", \"31\", \"32\", \"33\", \"34\", \"35\", \"36\", \"37\", \"38\", \"39\", \"40\", \"41\", \"42\"], \"mode\": \"markers\", \"name\": \"log_loss\", \"stepped\": false, \"type\": \"scatter\", \"data\": [0.515865859837587, 0.4909763742529856, 0.4253726213715354, 0.4255274121830402, 0.4430250184477056, 0.46256417482923495, 0.43400868960538286, 0.4640513975327849, 0.39279483912489843, 0.3665012082841416, 0.4405056945105291, 0.45985838216631636, 0.3908700214094988, 0.4106414738002216, 0.41356428107734444, 0.41812690829957777, 0.5482457240084171, 0.4000182183398193, 0.5248426354870797, 0.4615380873500682, 0.5029176653572559, 0.4022435930745599, 0.45835009400887855, 0.4052298468116506, 0.42536196950189237, 0.5995064755534241, 0.424417124498434, 5.524288772338953, 0.4376157640894422, 0.4196762712601469, 0.723657031218164, 0.43894171995522446, 0.4051903166174351, 0.5134785140191421, 0.43854486892689143, 0.6194420801105844, 0.4991899376987474, 0.4374330578800577, 0.4134712394615808, 0.41643187572754925, 0.4122137775683192, 0.3831587704083147, 0.38468575442876374]}, {\"categories\": [\"0\", \"1\", \"2\", \"3\", \"4\", \"5\", \"6\", \"7\", \"8\", \"9\", \"10\", \"11\", \"12\", \"13\", \"14\", \"15\", \"16\", \"17\", \"18\", \"19\", \"20\", \"21\", \"22\", \"23\", \"24\", \"25\", \"26\", \"27\", \"28\", \"29\", \"30\", \"31\", \"32\", \"33\", \"34\", \"35\", \"36\", \"37\", \"38\", \"39\", \"40\", \"41\", \"42\"], \"mode\": \"lines\", \"name\": \"log_loss_min\", \"stepped\": true, \"type\": \"scatter\", \"data\": [0.515865859837587, 0.4909763742529856, 0.4253726213715354, 0.4253726213715354, 0.4253726213715354, 0.4253726213715354, 0.4253726213715354, 0.4253726213715354, 0.39279483912489843, 0.3665012082841416, 0.3665012082841416, 0.3665012082841416, 0.3665012082841416, 0.3665012082841416, 0.3665012082841416, 0.3665012082841416, 0.3665012082841416, 0.3665012082841416, 0.3665012082841416, 0.3665012082841416, 0.3665012082841416, 0.3665012082841416, 0.3665012082841416, 0.3665012082841416, 0.3665012082841416, 0.3665012082841416, 0.3665012082841416, 0.3665012082841416, 0.3665012082841416, 0.3665012082841416, 0.3665012082841416, 0.3665012082841416, 0.3665012082841416, 0.3665012082841416, 0.3665012082841416, 0.3665012082841416, 0.3665012082841416, 0.3665012082841416, 0.3665012082841416, 0.3665012082841416, 0.3665012082841416, 0.3665012082841416, 0.3665012082841416]}], \"matthews_correlation\": [{\"categories\": [\"0\", \"1\", \"2\", \"3\", \"4\", \"5\", \"6\", \"7\", \"8\", \"9\", \"10\", \"11\", \"12\", \"13\", \"14\", \"15\", \"16\", \"17\", \"18\", \"19\", \"20\", \"21\", \"22\", \"23\", \"24\", \"25\", \"26\", \"27\", \"28\", \"29\", \"30\", \"31\", \"32\", \"33\", \"34\", \"35\", \"36\", \"37\", \"38\", \"39\", \"40\", \"41\", \"42\"], \"mode\": \"markers\", \"name\": \"matthews_correlation\", \"stepped\": false, \"type\": \"scatter\", \"data\": [0.5829894359926271, 0.5829709293971379, 0.6290370911348864, 0.6123544360830315, 0.609375380546077, 0.5973441299098043, 0.6030851442247699, 0.6295362320977993, 0.61974974222533, 0.7065837246206333, 0.6240064637483873, 0.6235361582689717, 0.6821393267095683, 0.689635508460584, 0.6175934703378205, 0.6379429151388203, 0.5633554028321069, 0.6718642300390923, 0.5617675153309983, 0.5704073130072557, 0.6368968914568521, 0.6207742491007426, 0.6528813480602219, 0.6534452884227969, 0.6033743197049501, 0.3587742970975175, 0.6215366749389017, 0.4069110373673774, 0.6060441946225137, 0.6174246192600992, 0.0, 0.6535699405163049, 0.6668148377058548, 0.5677472118847394, 0.6623191737078166, 0.297832441714578, 0.5735166578880384, 0.6439050793084673, 0.5940844518154872, 0.6250385533772782, 0.689635508460584, 0.7430365722603729, 0.7013960405502784]}, {\"categories\": [\"0\", \"1\", \"2\", \"3\", \"4\", \"5\", \"6\", \"7\", \"8\", \"9\", \"10\", \"11\", \"12\", \"13\", \"14\", \"15\", \"16\", \"17\", \"18\", \"19\", \"20\", \"21\", \"22\", \"23\", \"24\", \"25\", \"26\", \"27\", \"28\", \"29\", \"30\", \"31\", \"32\", \"33\", \"34\", \"35\", \"36\", \"37\", \"38\", \"39\", \"40\", \"41\", \"42\"], \"mode\": \"lines\", \"name\": \"matthews_correlation_max\", \"stepped\": true, \"type\": \"scatter\", \"data\": [0.5829894359926271, 0.5829894359926271, 0.6290370911348864, 0.6290370911348864, 0.6290370911348864, 0.6290370911348864, 0.6290370911348864, 0.6295362320977993, 0.6295362320977993, 0.7065837246206333, 0.7065837246206333, 0.7065837246206333, 0.7065837246206333, 0.7065837246206333, 0.7065837246206333, 0.7065837246206333, 0.7065837246206333, 0.7065837246206333, 0.7065837246206333, 0.7065837246206333, 0.7065837246206333, 0.7065837246206333, 0.7065837246206333, 0.7065837246206333, 0.7065837246206333, 0.7065837246206333, 0.7065837246206333, 0.7065837246206333, 0.7065837246206333, 0.7065837246206333, 0.7065837246206333, 0.7065837246206333, 0.7065837246206333, 0.7065837246206333, 0.7065837246206333, 0.7065837246206333, 0.7065837246206333, 0.7065837246206333, 0.7065837246206333, 0.7065837246206333, 0.7065837246206333, 0.7430365722603729, 0.7430365722603729]}], \"accuracy\": [{\"categories\": [\"0\", \"1\", \"2\", \"3\", \"4\", \"5\", \"6\", \"7\", \"8\", \"9\", \"10\", \"11\", \"12\", \"13\", \"14\", \"15\", \"16\", \"17\", \"18\", \"19\", \"20\", \"21\", \"22\", \"23\", \"24\", \"25\", \"26\", \"27\", \"28\", \"29\", \"30\", \"31\", \"32\", \"33\", \"34\", \"35\", \"36\", \"37\", \"38\", \"39\", \"40\", \"41\", \"42\"], \"mode\": \"markers\", \"name\": \"accuracy\", \"stepped\": false, \"type\": \"scatter\", \"data\": [0.7927536231884058, 0.788599033816425, 0.8105314009661836, 0.8059903381642511, 0.8014492753623188, 0.8017391304347825, 0.8018357487922705, 0.8150724637681158, 0.8105314009661836, 0.8545893719806763, 0.814975845410628, 0.8107246376811593, 0.8414492753623188, 0.8458937198067634, 0.8105314009661836, 0.8194202898550724, 0.7841545893719806, 0.8369082125603864, 0.7799999999999999, 0.788792270531401, 0.8193236714975844, 0.8105314009661836, 0.8281159420289855, 0.8281159420289853, 0.8015458937198068, 0.6827053140096618, 0.8104347826086956, 0.7009661835748793, 0.8059903381642511, 0.8104347826086956, 0.5463768115942028, 0.8279227053140097, 0.8326570048309179, 0.7844444444444443, 0.8324637681159421, 0.6516908212560386, 0.7885024154589372, 0.823671497584541, 0.797391304347826, 0.81487922705314, 0.8458937198067634, 0.8721739130434782, 0.8502415458937197]}, {\"categories\": [\"0\", \"1\", \"2\", \"3\", \"4\", \"5\", \"6\", \"7\", \"8\", \"9\", \"10\", \"11\", \"12\", \"13\", \"14\", \"15\", \"16\", \"17\", \"18\", \"19\", \"20\", \"21\", \"22\", \"23\", \"24\", \"25\", \"26\", \"27\", \"28\", \"29\", \"30\", \"31\", \"32\", \"33\", \"34\", \"35\", \"36\", \"37\", \"38\", \"39\", \"40\", \"41\", \"42\"], \"mode\": \"lines\", \"name\": \"accuracy_max\", \"stepped\": true, \"type\": \"scatter\", \"data\": [0.7927536231884058, 0.7927536231884058, 0.8105314009661836, 0.8105314009661836, 0.8105314009661836, 0.8105314009661836, 0.8105314009661836, 0.8150724637681158, 0.8150724637681158, 0.8545893719806763, 0.8545893719806763, 0.8545893719806763, 0.8545893719806763, 0.8545893719806763, 0.8545893719806763, 0.8545893719806763, 0.8545893719806763, 0.8545893719806763, 0.8545893719806763, 0.8545893719806763, 0.8545893719806763, 0.8545893719806763, 0.8545893719806763, 0.8545893719806763, 0.8545893719806763, 0.8545893719806763, 0.8545893719806763, 0.8545893719806763, 0.8545893719806763, 0.8545893719806763, 0.8545893719806763, 0.8545893719806763, 0.8545893719806763, 0.8545893719806763, 0.8545893719806763, 0.8545893719806763, 0.8545893719806763, 0.8545893719806763, 0.8545893719806763, 0.8545893719806763, 0.8545893719806763, 0.8721739130434782, 0.8721739130434782]}], \"recall_score_macro\": [{\"categories\": [\"0\", \"1\", \"2\", \"3\", \"4\", \"5\", \"6\", \"7\", \"8\", \"9\", \"10\", \"11\", \"12\", \"13\", \"14\", \"15\", \"16\", \"17\", \"18\", \"19\", \"20\", \"21\", \"22\", \"23\", \"24\", \"25\", \"26\", \"27\", \"28\", \"29\", \"30\", \"31\", \"32\", \"33\", \"34\", \"35\", \"36\", \"37\", \"38\", \"39\", \"40\", \"41\", \"42\"], \"mode\": \"markers\", \"name\": \"recall_score_macro\", \"stepped\": false, \"type\": \"scatter\", \"data\": [0.7894007152268021, 0.7881078486730662, 0.8149966120835686, 0.8071487859966121, 0.8067158855637115, 0.7996134952004518, 0.8013950686994165, 0.8107234142668925, 0.8057182382834556, 0.8524983060417842, 0.8106071899115378, 0.8073900809335592, 0.8403338038772821, 0.8427407302842086, 0.8091589497459063, 0.8164643327686806, 0.7769266892527762, 0.8383552606813478, 0.7799223602484473, 0.7834375117635987, 0.8152853378505552, 0.8110637116506683, 0.8282808206286468, 0.8265812158855637, 0.7976394692264258, 0.6745990024468285, 0.8103734236777715, 0.705805100696405, 0.8017139092791267, 0.8072037455298325, 0.5, 0.8275067758328628, 0.8310617353660833, 0.7848963862224732, 0.8320522303783173, 0.6398667419536984, 0.7869418407679277, 0.8216381517033691, 0.7981178242047807, 0.8117303783173349, 0.8427407302842086, 0.8712104272539054, 0.8514340297383777]}, {\"categories\": [\"0\", \"1\", \"2\", \"3\", \"4\", \"5\", \"6\", \"7\", \"8\", \"9\", \"10\", \"11\", \"12\", \"13\", \"14\", \"15\", \"16\", \"17\", \"18\", \"19\", \"20\", \"21\", \"22\", \"23\", \"24\", \"25\", \"26\", \"27\", \"28\", \"29\", \"30\", \"31\", \"32\", \"33\", \"34\", \"35\", \"36\", \"37\", \"38\", \"39\", \"40\", \"41\", \"42\"], \"mode\": \"lines\", \"name\": \"recall_score_macro_max\", \"stepped\": true, \"type\": \"scatter\", \"data\": [0.7894007152268021, 0.7894007152268021, 0.8149966120835686, 0.8149966120835686, 0.8149966120835686, 0.8149966120835686, 0.8149966120835686, 0.8149966120835686, 0.8149966120835686, 0.8524983060417842, 0.8524983060417842, 0.8524983060417842, 0.8524983060417842, 0.8524983060417842, 0.8524983060417842, 0.8524983060417842, 0.8524983060417842, 0.8524983060417842, 0.8524983060417842, 0.8524983060417842, 0.8524983060417842, 0.8524983060417842, 0.8524983060417842, 0.8524983060417842, 0.8524983060417842, 0.8524983060417842, 0.8524983060417842, 0.8524983060417842, 0.8524983060417842, 0.8524983060417842, 0.8524983060417842, 0.8524983060417842, 0.8524983060417842, 0.8524983060417842, 0.8524983060417842, 0.8524983060417842, 0.8524983060417842, 0.8524983060417842, 0.8524983060417842, 0.8524983060417842, 0.8524983060417842, 0.8712104272539054, 0.8712104272539054]}], \"precision_score_weighted\": [{\"categories\": [\"0\", \"1\", \"2\", \"3\", \"4\", \"5\", \"6\", \"7\", \"8\", \"9\", \"10\", \"11\", \"12\", \"13\", \"14\", \"15\", \"16\", \"17\", \"18\", \"19\", \"20\", \"21\", \"22\", \"23\", \"24\", \"25\", \"26\", \"27\", \"28\", \"29\", \"30\", \"31\", \"32\", \"33\", \"34\", \"35\", \"36\", \"37\", \"38\", \"39\", \"40\", \"41\", \"42\"], \"mode\": \"markers\", \"name\": \"precision_score_weighted\", \"stepped\": false, \"type\": \"scatter\", \"data\": [0.7992181383774822, 0.8024700711711075, 0.8241988115806521, 0.8133887812096463, 0.8132693402500166, 0.8040032732825573, 0.8100168180084724, 0.8237256807326185, 0.8203416339903977, 0.8602192697212591, 0.8196301847574636, 0.8223782354854319, 0.8476984794452378, 0.8518722356887206, 0.8157344133722122, 0.8288195029634359, 0.7901905594145369, 0.8416019843365381, 0.78970268462206, 0.792203055558961, 0.8266100920905872, 0.8173736751425539, 0.8313245423390351, 0.8337972449808199, 0.8128712643121492, 0.6928252903509418, 0.81960969255838, 0.7128370412196499, 0.810588758262948, 0.8157516151959289, 0.30245433965786833, 0.8324007527800052, 0.8415227480940677, 0.7908443731445157, 0.8366095708117067, 0.666986158473051, 0.7938554114755487, 0.8289239076882099, 0.8034542951948749, 0.8188078579512151, 0.8518722356887206, 0.8770942818691507, 0.8579417910369763]}, {\"categories\": [\"0\", \"1\", \"2\", \"3\", \"4\", \"5\", \"6\", \"7\", \"8\", \"9\", \"10\", \"11\", \"12\", \"13\", \"14\", \"15\", \"16\", \"17\", \"18\", \"19\", \"20\", \"21\", \"22\", \"23\", \"24\", \"25\", \"26\", \"27\", \"28\", \"29\", \"30\", \"31\", \"32\", \"33\", \"34\", \"35\", \"36\", \"37\", \"38\", \"39\", \"40\", \"41\", \"42\"], \"mode\": \"lines\", \"name\": \"precision_score_weighted_max\", \"stepped\": true, \"type\": \"scatter\", \"data\": [0.7992181383774822, 0.8024700711711075, 0.8241988115806521, 0.8241988115806521, 0.8241988115806521, 0.8241988115806521, 0.8241988115806521, 0.8241988115806521, 0.8241988115806521, 0.8602192697212591, 0.8602192697212591, 0.8602192697212591, 0.8602192697212591, 0.8602192697212591, 0.8602192697212591, 0.8602192697212591, 0.8602192697212591, 0.8602192697212591, 0.8602192697212591, 0.8602192697212591, 0.8602192697212591, 0.8602192697212591, 0.8602192697212591, 0.8602192697212591, 0.8602192697212591, 0.8602192697212591, 0.8602192697212591, 0.8602192697212591, 0.8602192697212591, 0.8602192697212591, 0.8602192697212591, 0.8602192697212591, 0.8602192697212591, 0.8602192697212591, 0.8602192697212591, 0.8602192697212591, 0.8602192697212591, 0.8602192697212591, 0.8602192697212591, 0.8602192697212591, 0.8602192697212591, 0.8770942818691507, 0.8770942818691507]}], \"f1_score_macro\": [{\"categories\": [\"0\", \"1\", \"2\", \"3\", \"4\", \"5\", \"6\", \"7\", \"8\", \"9\", \"10\", \"11\", \"12\", \"13\", \"14\", \"15\", \"16\", \"17\", \"18\", \"19\", \"20\", \"21\", \"22\", \"23\", \"24\", \"25\", \"26\", \"27\", \"28\", \"29\", \"30\", \"31\", \"32\", \"33\", \"34\", \"35\", \"36\", \"37\", \"38\", \"39\", \"40\", \"41\", \"42\"], \"mode\": \"markers\", \"name\": \"f1_score_macro\", \"stepped\": false, \"type\": \"scatter\", \"data\": [0.7868322023667529, 0.7823731203550839, 0.8068808899243682, 0.8020439997247424, 0.7988482636247991, 0.7976277278233719, 0.7973889089565215, 0.8090907862469348, 0.8031745498782591, 0.8501970922580835, 0.8093060585584457, 0.8043704305816085, 0.8376526671244635, 0.8409981736598275, 0.8060399483130911, 0.813652017590976, 0.7761112738497449, 0.834092529990661, 0.774524682640205, 0.7829501625895161, 0.8139134075524478, 0.8068368773400542, 0.8251254871744778, 0.8240500629853391, 0.7950143500029083, 0.6701056958676618, 0.8061841427962607, 0.6986052182877966, 0.8004463496273841, 0.8053176942567667, 0.3523126643972703, 0.824499090872199, 0.8279617207141101, 0.7799760944686465, 0.8291164007352834, 0.631111699020818, 0.7838954699162896, 0.819309805929187, 0.7936953670940234, 0.8102569769061523, 0.8409981736598275, 0.8688494734909483, 0.8468292740048403]}, {\"categories\": [\"0\", \"1\", \"2\", \"3\", \"4\", \"5\", \"6\", \"7\", \"8\", \"9\", \"10\", \"11\", \"12\", \"13\", \"14\", \"15\", \"16\", \"17\", \"18\", \"19\", \"20\", \"21\", \"22\", \"23\", \"24\", \"25\", \"26\", \"27\", \"28\", \"29\", \"30\", \"31\", \"32\", \"33\", \"34\", \"35\", \"36\", \"37\", \"38\", \"39\", \"40\", \"41\", \"42\"], \"mode\": \"lines\", \"name\": \"f1_score_macro_max\", \"stepped\": true, \"type\": \"scatter\", \"data\": [0.7868322023667529, 0.7868322023667529, 0.8068808899243682, 0.8068808899243682, 0.8068808899243682, 0.8068808899243682, 0.8068808899243682, 0.8090907862469348, 0.8090907862469348, 0.8501970922580835, 0.8501970922580835, 0.8501970922580835, 0.8501970922580835, 0.8501970922580835, 0.8501970922580835, 0.8501970922580835, 0.8501970922580835, 0.8501970922580835, 0.8501970922580835, 0.8501970922580835, 0.8501970922580835, 0.8501970922580835, 0.8501970922580835, 0.8501970922580835, 0.8501970922580835, 0.8501970922580835, 0.8501970922580835, 0.8501970922580835, 0.8501970922580835, 0.8501970922580835, 0.8501970922580835, 0.8501970922580835, 0.8501970922580835, 0.8501970922580835, 0.8501970922580835, 0.8501970922580835, 0.8501970922580835, 0.8501970922580835, 0.8501970922580835, 0.8501970922580835, 0.8501970922580835, 0.8688494734909483, 0.8688494734909483]}]}, \"metricName\": null, \"primaryMetricName\": \"accuracy\", \"showLegend\": false}, \"run_metrics\": [{\"name\": \"f1_score_macro\", \"run_id\": \"AutoML_3fa58aab-ed3e-4b9c-9da8-ce8090e48a0b\", \"categories\": [0], \"series\": [{\"data\": [0.8688494734909483]}]}, {\"name\": \"recall_score_weighted\", \"run_id\": \"AutoML_3fa58aab-ed3e-4b9c-9da8-ce8090e48a0b\", \"categories\": [0], \"series\": [{\"data\": [0.8721739130434782]}]}, {\"name\": \"average_precision_score_weighted\", \"run_id\": \"AutoML_3fa58aab-ed3e-4b9c-9da8-ce8090e48a0b\", \"categories\": [0], \"series\": [{\"data\": [0.9188559602487649]}]}, {\"name\": \"precision_score_micro\", \"run_id\": \"AutoML_3fa58aab-ed3e-4b9c-9da8-ce8090e48a0b\", \"categories\": [0], \"series\": [{\"data\": [0.8721739130434782]}]}, {\"name\": \"precision_score_weighted\", \"run_id\": \"AutoML_3fa58aab-ed3e-4b9c-9da8-ce8090e48a0b\", \"categories\": [0], \"series\": [{\"data\": [0.8770942818691507]}]}, {\"name\": \"norm_macro_recall\", \"run_id\": \"AutoML_3fa58aab-ed3e-4b9c-9da8-ce8090e48a0b\", \"categories\": [0], \"series\": [{\"data\": [0.742420854507811]}]}, {\"name\": \"accuracy\", \"run_id\": \"AutoML_3fa58aab-ed3e-4b9c-9da8-ce8090e48a0b\", \"categories\": [0], \"series\": [{\"data\": [0.8721739130434782]}]}, {\"name\": \"matthews_correlation\", \"run_id\": \"AutoML_3fa58aab-ed3e-4b9c-9da8-ce8090e48a0b\", \"categories\": [0], \"series\": [{\"data\": [0.7430365722603729]}]}, {\"name\": \"recall_score_macro\", \"run_id\": \"AutoML_3fa58aab-ed3e-4b9c-9da8-ce8090e48a0b\", \"categories\": [0], \"series\": [{\"data\": [0.8712104272539054]}]}, {\"name\": \"log_loss\", \"run_id\": \"AutoML_3fa58aab-ed3e-4b9c-9da8-ce8090e48a0b\", \"categories\": [0], \"series\": [{\"data\": [0.3831587704083147]}]}, {\"name\": \"average_precision_score_micro\", \"run_id\": \"AutoML_3fa58aab-ed3e-4b9c-9da8-ce8090e48a0b\", \"categories\": [0], \"series\": [{\"data\": [0.9115849266751427]}]}, {\"name\": \"AUC_weighted\", \"run_id\": \"AutoML_3fa58aab-ed3e-4b9c-9da8-ce8090e48a0b\", \"categories\": [0], \"series\": [{\"data\": [0.9166568793525316]}]}, {\"name\": \"AUC_macro\", \"run_id\": \"AutoML_3fa58aab-ed3e-4b9c-9da8-ce8090e48a0b\", \"categories\": [0], \"series\": [{\"data\": [0.9166568793525315]}]}, {\"name\": \"f1_score_micro\", \"run_id\": \"AutoML_3fa58aab-ed3e-4b9c-9da8-ce8090e48a0b\", \"categories\": [0], \"series\": [{\"data\": [0.8721739130434782]}]}, {\"name\": \"weighted_accuracy\", \"run_id\": \"AutoML_3fa58aab-ed3e-4b9c-9da8-ce8090e48a0b\", \"categories\": [0], \"series\": [{\"data\": [0.8731381015144187]}]}, {\"name\": \"precision_score_macro\", \"run_id\": \"AutoML_3fa58aab-ed3e-4b9c-9da8-ce8090e48a0b\", \"categories\": [0], \"series\": [{\"data\": [0.8719303185634455]}]}, {\"name\": \"AUC_micro\", \"run_id\": \"AutoML_3fa58aab-ed3e-4b9c-9da8-ce8090e48a0b\", \"categories\": [0], \"series\": [{\"data\": [0.9145676678568929]}]}, {\"name\": \"balanced_accuracy\", \"run_id\": \"AutoML_3fa58aab-ed3e-4b9c-9da8-ce8090e48a0b\", \"categories\": [0], \"series\": [{\"data\": [0.8712104272539054]}]}, {\"name\": \"average_precision_score_macro\", \"run_id\": \"AutoML_3fa58aab-ed3e-4b9c-9da8-ce8090e48a0b\", \"categories\": [0], \"series\": [{\"data\": [0.9161280664517824]}]}, {\"name\": \"recall_score_micro\", \"run_id\": \"AutoML_3fa58aab-ed3e-4b9c-9da8-ce8090e48a0b\", \"categories\": [0], \"series\": [{\"data\": [0.8721739130434782]}]}, {\"name\": \"f1_score_weighted\", \"run_id\": \"AutoML_3fa58aab-ed3e-4b9c-9da8-ce8090e48a0b\", \"categories\": [0], \"series\": [{\"data\": [0.8720011862441084]}]}], \"run_logs\": \"\\nRun is completed.\", \"graph\": {}, \"widget_settings\": {\"childWidgetDisplay\": \"popup\", \"send_telemetry\": false, \"log_level\": \"INFO\", \"sdk_version\": \"1.19.0\"}, \"loading\": false}"
     },
     "metadata": {},
     "output_type": "display_data"
    }
   ],
   "source": [
    "RunDetails(remote_run).show()"
   ]
  },
  {
   "cell_type": "markdown",
   "metadata": {},
   "source": [
    "## Best Model\n",
    "\n",
    "TODO: In the cell below, get the best model from the automl experiments and display all the properties of the model.\n",
    "\n"
   ]
  },
  {
   "cell_type": "code",
   "execution_count": 14,
   "metadata": {
    "gather": {
     "logged": 1598431425670
    },
    "jupyter": {
     "outputs_hidden": false,
     "source_hidden": false
    },
    "nteract": {
     "transient": {
      "deleting": false
     }
    }
   },
   "outputs": [
    {
     "name": "stdout",
     "output_type": "stream",
     "text": [
      "Run(Experiment: heart_disease_automl,\n",
      "Id: AutoML_3fa58aab-ed3e-4b9c-9da8-ce8090e48a0b_41,\n",
      "Type: None,\n",
      "Status: Completed)\n",
      "0.8721739130434782\n",
      "Pipeline(memory=None,\n",
      "         steps=[('datatransformer',\n",
      "                 DataTransformer(enable_dnn=None, enable_feature_sweeping=None,\n",
      "                                 feature_sweeping_config=None,\n",
      "                                 feature_sweeping_timeout=None,\n",
      "                                 featurization_config=None, force_text_dnn=None,\n",
      "                                 is_cross_validation=None,\n",
      "                                 is_onnx_compatible=None, logger=None,\n",
      "                                 observer=None, task=None, working_dir=None)),\n",
      "                ('prefittedsoftvotingclassifier',...\n",
      "                                                                                                    max_samples=None,\n",
      "                                                                                                    min_impurity_decrease=0.0,\n",
      "                                                                                                    min_impurity_split=None,\n",
      "                                                                                                    min_samples_leaf=0.035789473684210524,\n",
      "                                                                                                    min_samples_split=0.01,\n",
      "                                                                                                    min_weight_fraction_leaf=0.0,\n",
      "                                                                                                    n_estimators=10,\n",
      "                                                                                                    n_jobs=1,\n",
      "                                                                                                    oob_score=True,\n",
      "                                                                                                    random_state=None,\n",
      "                                                                                                    verbose=0,\n",
      "                                                                                                    warm_start=False))],\n",
      "                                                                     verbose=False))],\n",
      "                                               flatten_transform=None,\n",
      "                                               weights=[0.125, 0.125, 0.125,\n",
      "                                                        0.125, 0.125, 0.125,\n",
      "                                                        0.125, 0.125]))],\n",
      "         verbose=False)\n"
     ]
    }
   ],
   "source": [
    "import joblib\n",
    "best_run, fitted_model = remote_run.get_output()\n",
    "best_run_metrics = best_run.get_metrics()\n",
    "print(best_run)\n",
    "print(best_run_metrics['accuracy'])\n",
    "print(fitted_model)"
   ]
  },
  {
   "cell_type": "code",
   "execution_count": 23,
   "metadata": {
    "gather": {
     "logged": 1598431426111
    },
    "jupyter": {
     "outputs_hidden": false,
     "source_hidden": false
    },
    "nteract": {
     "transient": {
      "deleting": false
     }
    }
   },
   "outputs": [
    {
     "data": {
      "text/html": [
       "['best_automl_model.pkl']"
      ],
      "text/plain": [
       "['best_automl_model.pkl']"
      ]
     },
     "execution_count": 23,
     "metadata": {},
     "output_type": "execute_result"
    }
   ],
   "source": [
    "#TODO: Save the best model\n",
    "\n",
    "joblib.dump(fitted_model, \"best_automl_model.pkl\")"
   ]
  },
  {
   "cell_type": "markdown",
   "metadata": {},
   "source": [
    "## Model Deployment\n",
    "\n",
    "Remember you have to deploy only one of the two models you trained.. Perform the steps in the rest of this notebook only if you wish to deploy this model.\n",
    "\n",
    "TODO: In the cell below, register the model, create an inference config and deploy the model as a web service."
   ]
  },
  {
   "cell_type": "code",
   "execution_count": 31,
   "metadata": {
    "gather": {
     "logged": 1598431435189
    },
    "jupyter": {
     "outputs_hidden": false,
     "source_hidden": false
    },
    "nteract": {
     "transient": {
      "deleting": false
     }
    }
   },
   "outputs": [
    {
     "name": "stdout",
     "output_type": "stream",
     "text": [
      "Registering model best_automl_model\n"
     ]
    }
   ],
   "source": [
    "from azureml.core.model import Model\n",
    "model = Model.register(model_path=\"best_automl_model.pkl\",\n",
    "                       model_name=\"best_automl_model\",\n",
    "                       workspace = ws)"
   ]
  },
  {
   "cell_type": "code",
   "execution_count": 32,
   "metadata": {},
   "outputs": [
    {
     "data": {
      "text/html": [
       "['accuracy_table', 'confusion_matrix', 'explanation/10b5a759/classes.interpret.json', 'explanation/10b5a759/eval_data_viz.interpret.json', 'explanation/10b5a759/expected_values.interpret.json', 'explanation/10b5a759/features.interpret.json', 'explanation/10b5a759/global_names/0.interpret.json', 'explanation/10b5a759/global_rank/0.interpret.json', 'explanation/10b5a759/global_values/0.interpret.json', 'explanation/10b5a759/local_importance_values.interpret.json', 'explanation/10b5a759/per_class_names/0.interpret.json', 'explanation/10b5a759/per_class_rank/0.interpret.json', 'explanation/10b5a759/per_class_values/0.interpret.json', 'explanation/10b5a759/rich_metadata.interpret.json', 'explanation/10b5a759/visualization_dict.interpret.json', 'explanation/a0e1ee04/classes.interpret.json', 'explanation/a0e1ee04/expected_values.interpret.json', 'explanation/a0e1ee04/features.interpret.json', 'explanation/a0e1ee04/global_names/0.interpret.json', 'explanation/a0e1ee04/global_rank/0.interpret.json', 'explanation/a0e1ee04/global_values/0.interpret.json', 'explanation/a0e1ee04/local_importance_values.interpret.json', 'explanation/a0e1ee04/per_class_names/0.interpret.json', 'explanation/a0e1ee04/per_class_rank/0.interpret.json', 'explanation/a0e1ee04/per_class_values/0.interpret.json', 'explanation/a0e1ee04/rich_metadata.interpret.json', 'explanation/a0e1ee04/visualization_dict.interpret.json', 'outputs/conda_env_v_1_0_0.yml', 'outputs/env_dependencies.json', 'outputs/model.pkl', 'outputs/pipeline_graph.json', 'outputs/scoring_file_v_1_0_0.py']"
      ],
      "text/plain": [
       "['accuracy_table',\n",
       " 'confusion_matrix',\n",
       " 'explanation/10b5a759/classes.interpret.json',\n",
       " 'explanation/10b5a759/eval_data_viz.interpret.json',\n",
       " 'explanation/10b5a759/expected_values.interpret.json',\n",
       " 'explanation/10b5a759/features.interpret.json',\n",
       " 'explanation/10b5a759/global_names/0.interpret.json',\n",
       " 'explanation/10b5a759/global_rank/0.interpret.json',\n",
       " 'explanation/10b5a759/global_values/0.interpret.json',\n",
       " 'explanation/10b5a759/local_importance_values.interpret.json',\n",
       " 'explanation/10b5a759/per_class_names/0.interpret.json',\n",
       " 'explanation/10b5a759/per_class_rank/0.interpret.json',\n",
       " 'explanation/10b5a759/per_class_values/0.interpret.json',\n",
       " 'explanation/10b5a759/rich_metadata.interpret.json',\n",
       " 'explanation/10b5a759/visualization_dict.interpret.json',\n",
       " 'explanation/a0e1ee04/classes.interpret.json',\n",
       " 'explanation/a0e1ee04/expected_values.interpret.json',\n",
       " 'explanation/a0e1ee04/features.interpret.json',\n",
       " 'explanation/a0e1ee04/global_names/0.interpret.json',\n",
       " 'explanation/a0e1ee04/global_rank/0.interpret.json',\n",
       " 'explanation/a0e1ee04/global_values/0.interpret.json',\n",
       " 'explanation/a0e1ee04/local_importance_values.interpret.json',\n",
       " 'explanation/a0e1ee04/per_class_names/0.interpret.json',\n",
       " 'explanation/a0e1ee04/per_class_rank/0.interpret.json',\n",
       " 'explanation/a0e1ee04/per_class_values/0.interpret.json',\n",
       " 'explanation/a0e1ee04/rich_metadata.interpret.json',\n",
       " 'explanation/a0e1ee04/visualization_dict.interpret.json',\n",
       " 'outputs/conda_env_v_1_0_0.yml',\n",
       " 'outputs/env_dependencies.json',\n",
       " 'outputs/model.pkl',\n",
       " 'outputs/pipeline_graph.json',\n",
       " 'outputs/scoring_file_v_1_0_0.py']"
      ]
     },
     "execution_count": 32,
     "metadata": {},
     "output_type": "execute_result"
    }
   ],
   "source": [
    "best_run.get_file_names()"
   ]
  },
  {
   "cell_type": "code",
   "execution_count": 33,
   "metadata": {},
   "outputs": [],
   "source": [
    "best_run.download_file('outputs/scoring_file_v_1_0_0.py', 'score.py')"
   ]
  },
  {
   "cell_type": "code",
   "execution_count": 34,
   "metadata": {},
   "outputs": [],
   "source": [
    "best_run.download_file('outputs/conda_env_v_1_0_0.yml', 'myenv.yml')"
   ]
  },
  {
   "cell_type": "code",
   "execution_count": null,
   "metadata": {},
   "outputs": [],
   "source": []
  },
  {
   "cell_type": "markdown",
   "metadata": {
    "collapsed": true,
    "gather": {
     "logged": 1598431657736
    },
    "jupyter": {
     "outputs_hidden": false,
     "source_hidden": false
    },
    "nteract": {
     "transient": {
      "deleting": false
     }
    }
   },
   "source": [
    "TODO: In the cell below, send a request to the web service you deployed to test it."
   ]
  },
  {
   "cell_type": "code",
   "execution_count": null,
   "metadata": {
    "gather": {
     "logged": 1598432707604
    },
    "jupyter": {
     "outputs_hidden": false,
     "source_hidden": false
    },
    "nteract": {
     "transient": {
      "deleting": false
     }
    }
   },
   "outputs": [],
   "source": []
  },
  {
   "cell_type": "markdown",
   "metadata": {
    "collapsed": true,
    "gather": {
     "logged": 1598432765711
    },
    "jupyter": {
     "outputs_hidden": false,
     "source_hidden": false
    },
    "nteract": {
     "transient": {
      "deleting": false
     }
    }
   },
   "source": [
    "TODO: In the cell below, print the logs of the web service and delete the service"
   ]
  },
  {
   "cell_type": "code",
   "execution_count": null,
   "metadata": {
    "jupyter": {
     "outputs_hidden": false,
     "source_hidden": false
    },
    "nteract": {
     "transient": {
      "deleting": false
     }
    }
   },
   "outputs": [],
   "source": []
  }
 ],
 "metadata": {
  "kernel_info": {
   "name": "python3-azureml"
  },
  "kernelspec": {
   "display_name": "Python 3",
   "language": "python",
   "name": "python3"
  },
  "language_info": {
   "codemirror_mode": {
    "name": "ipython",
    "version": 3
   },
   "file_extension": ".py",
   "mimetype": "text/x-python",
   "name": "python",
   "nbconvert_exporter": "python",
   "pygments_lexer": "ipython3",
   "version": "3.6.9"
  },
  "nteract": {
   "version": "nteract-front-end@1.0.0"
  }
 },
 "nbformat": 4,
 "nbformat_minor": 2
}
